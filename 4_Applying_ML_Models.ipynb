{
  "cells": [
    {
      "cell_type": "markdown",
      "metadata": {
        "id": "view-in-github",
        "colab_type": "text"
      },
      "source": [
        "<a href=\"https://colab.research.google.com/github/farihahahmed/solar-forecasting-AI-novel-cyclical-features-encoding-technique/blob/main/4_Applying_ML_Models.ipynb\" target=\"_parent\"><img src=\"https://colab.research.google.com/assets/colab-badge.svg\" alt=\"Open In Colab\"/></a>"
      ]
    },
    {
      "cell_type": "markdown",
      "metadata": {
        "id": "UbbhnBJP1tPV"
      },
      "source": [
        "#Loading the data"
      ]
    },
    {
      "cell_type": "code",
      "execution_count": null,
      "metadata": {
        "colab": {
          "base_uri": "https://localhost:8080/"
        },
        "id": "qOSb5rB-08H3",
        "outputId": "6e6c3df3-d0f7-4b02-da3f-45ea9294763d"
      },
      "outputs": [
        {
          "output_type": "stream",
          "name": "stdout",
          "text": [
            "Mounted at /content/drive\n"
          ]
        }
      ],
      "source": [
        "#Mounting Google Drive\n",
        "from google.colab import drive\n",
        "drive.mount('/content/drive')"
      ]
    },
    {
      "cell_type": "code",
      "execution_count": null,
      "metadata": {
        "id": "6fQzA7HZ1aEG"
      },
      "outputs": [],
      "source": [
        "#Importing Our Data\n",
        "import pandas as pd\n",
        "\n",
        "x = pd.read_csv('/content/drive/MyDrive/Restarting Lumiere - Farihah and Mauricio/Notebooks and data/x.csv')\n",
        "y = pd.read_csv('/content/drive/MyDrive/Restarting Lumiere - Farihah and Mauricio/Notebooks and data/y.csv')"
      ]
    },
    {
      "cell_type": "code",
      "execution_count": null,
      "metadata": {
        "colab": {
          "base_uri": "https://localhost:8080/",
          "height": 505
        },
        "id": "FcP47clp1jGb",
        "outputId": "aef545cd-c6f5-4d6b-df51-0f45a1d65850"
      },
      "outputs": [
        {
          "output_type": "execute_result",
          "data": {
            "text/plain": [
              "        Unnamed: 0  0:30-day1  1:00-day1  1:30-day1  2:00-day1  2:30-day1  \\\n",
              "0                0        0.0        0.0        0.0        0.0        0.0   \n",
              "1                1        0.0        0.0        0.0        0.0        0.0   \n",
              "2                2        0.0        0.0        0.0        0.0        0.0   \n",
              "3                3        0.0        0.0        0.0        0.0        0.0   \n",
              "4                4        0.0        0.0        0.0        0.0        0.0   \n",
              "...            ...        ...        ...        ...        ...        ...   \n",
              "108814      108814        0.0        0.0        0.0        0.0        0.0   \n",
              "108815      108815        0.0        0.0        0.0        0.0        0.0   \n",
              "108816      108816        0.0        0.0        0.0        0.0        0.0   \n",
              "108817      108817        0.0        0.0        0.0        0.0        0.0   \n",
              "108818      108818        0.0        0.0        0.0        0.0        0.0   \n",
              "\n",
              "        3:00-day1  3:30-day1  4:00-day1  4:30-day1  ...  19:30-day2  \\\n",
              "0             0.0        0.0        0.0        0.0  ...         0.0   \n",
              "1             0.0        0.0        0.0        0.0  ...         0.0   \n",
              "2             0.0        0.0        0.0        0.0  ...         0.0   \n",
              "3             0.0        0.0        0.0        0.0  ...         0.0   \n",
              "4             0.0        0.0        0.0        0.0  ...         0.0   \n",
              "...           ...        ...        ...        ...  ...         ...   \n",
              "108814        0.0        0.0        0.0        0.0  ...         0.0   \n",
              "108815        0.0        0.0        0.0        0.0  ...         0.0   \n",
              "108816        0.0        0.0        0.0        0.0  ...         0.0   \n",
              "108817        0.0        0.0        0.0        0.0  ...         0.0   \n",
              "108818        0.0        0.0        0.0        0.0  ...         0.0   \n",
              "\n",
              "        20:00-day2  20:30-day2  21:00-day2  21:30-day2  22:00-day2  \\\n",
              "0              0.0         0.0         0.0         0.0         0.0   \n",
              "1              0.0         0.0         0.0         0.0         0.0   \n",
              "2              0.0         0.0         0.0         0.0         0.0   \n",
              "3              0.0         0.0         0.0         0.0         0.0   \n",
              "4              0.0         0.0         0.0         0.0         0.0   \n",
              "...            ...         ...         ...         ...         ...   \n",
              "108814         0.0         0.0         0.0         0.0         0.0   \n",
              "108815         0.0         0.0         0.0         0.0         0.0   \n",
              "108816         0.0         0.0         0.0         0.0         0.0   \n",
              "108817         0.0         0.0         0.0         0.0         0.0   \n",
              "108818         0.0         0.0         0.0         0.0         0.0   \n",
              "\n",
              "        22:30-day2  23:00-day2  23:30-day2  0:00-day2  \n",
              "0              0.0         0.0         0.0        0.0  \n",
              "1              0.0         0.0         0.0        0.0  \n",
              "2              0.0         0.0         0.0        0.0  \n",
              "3              0.0         0.0         0.0        0.0  \n",
              "4              0.0         0.0         0.0        0.0  \n",
              "...            ...         ...         ...        ...  \n",
              "108814         0.0         0.0         0.0        0.0  \n",
              "108815         0.0         0.0         0.0        0.0  \n",
              "108816         0.0         0.0         0.0        0.0  \n",
              "108817         0.0         0.0         0.0        0.0  \n",
              "108818         0.0         0.0         0.0        0.0  \n",
              "\n",
              "[108819 rows x 97 columns]"
            ],
            "text/html": [
              "\n",
              "  <div id=\"df-ebeb05ab-fe64-4b00-986d-d8ca1fe74392\">\n",
              "    <div class=\"colab-df-container\">\n",
              "      <div>\n",
              "<style scoped>\n",
              "    .dataframe tbody tr th:only-of-type {\n",
              "        vertical-align: middle;\n",
              "    }\n",
              "\n",
              "    .dataframe tbody tr th {\n",
              "        vertical-align: top;\n",
              "    }\n",
              "\n",
              "    .dataframe thead th {\n",
              "        text-align: right;\n",
              "    }\n",
              "</style>\n",
              "<table border=\"1\" class=\"dataframe\">\n",
              "  <thead>\n",
              "    <tr style=\"text-align: right;\">\n",
              "      <th></th>\n",
              "      <th>Unnamed: 0</th>\n",
              "      <th>0:30-day1</th>\n",
              "      <th>1:00-day1</th>\n",
              "      <th>1:30-day1</th>\n",
              "      <th>2:00-day1</th>\n",
              "      <th>2:30-day1</th>\n",
              "      <th>3:00-day1</th>\n",
              "      <th>3:30-day1</th>\n",
              "      <th>4:00-day1</th>\n",
              "      <th>4:30-day1</th>\n",
              "      <th>...</th>\n",
              "      <th>19:30-day2</th>\n",
              "      <th>20:00-day2</th>\n",
              "      <th>20:30-day2</th>\n",
              "      <th>21:00-day2</th>\n",
              "      <th>21:30-day2</th>\n",
              "      <th>22:00-day2</th>\n",
              "      <th>22:30-day2</th>\n",
              "      <th>23:00-day2</th>\n",
              "      <th>23:30-day2</th>\n",
              "      <th>0:00-day2</th>\n",
              "    </tr>\n",
              "  </thead>\n",
              "  <tbody>\n",
              "    <tr>\n",
              "      <th>0</th>\n",
              "      <td>0</td>\n",
              "      <td>0.0</td>\n",
              "      <td>0.0</td>\n",
              "      <td>0.0</td>\n",
              "      <td>0.0</td>\n",
              "      <td>0.0</td>\n",
              "      <td>0.0</td>\n",
              "      <td>0.0</td>\n",
              "      <td>0.0</td>\n",
              "      <td>0.0</td>\n",
              "      <td>...</td>\n",
              "      <td>0.0</td>\n",
              "      <td>0.0</td>\n",
              "      <td>0.0</td>\n",
              "      <td>0.0</td>\n",
              "      <td>0.0</td>\n",
              "      <td>0.0</td>\n",
              "      <td>0.0</td>\n",
              "      <td>0.0</td>\n",
              "      <td>0.0</td>\n",
              "      <td>0.0</td>\n",
              "    </tr>\n",
              "    <tr>\n",
              "      <th>1</th>\n",
              "      <td>1</td>\n",
              "      <td>0.0</td>\n",
              "      <td>0.0</td>\n",
              "      <td>0.0</td>\n",
              "      <td>0.0</td>\n",
              "      <td>0.0</td>\n",
              "      <td>0.0</td>\n",
              "      <td>0.0</td>\n",
              "      <td>0.0</td>\n",
              "      <td>0.0</td>\n",
              "      <td>...</td>\n",
              "      <td>0.0</td>\n",
              "      <td>0.0</td>\n",
              "      <td>0.0</td>\n",
              "      <td>0.0</td>\n",
              "      <td>0.0</td>\n",
              "      <td>0.0</td>\n",
              "      <td>0.0</td>\n",
              "      <td>0.0</td>\n",
              "      <td>0.0</td>\n",
              "      <td>0.0</td>\n",
              "    </tr>\n",
              "    <tr>\n",
              "      <th>2</th>\n",
              "      <td>2</td>\n",
              "      <td>0.0</td>\n",
              "      <td>0.0</td>\n",
              "      <td>0.0</td>\n",
              "      <td>0.0</td>\n",
              "      <td>0.0</td>\n",
              "      <td>0.0</td>\n",
              "      <td>0.0</td>\n",
              "      <td>0.0</td>\n",
              "      <td>0.0</td>\n",
              "      <td>...</td>\n",
              "      <td>0.0</td>\n",
              "      <td>0.0</td>\n",
              "      <td>0.0</td>\n",
              "      <td>0.0</td>\n",
              "      <td>0.0</td>\n",
              "      <td>0.0</td>\n",
              "      <td>0.0</td>\n",
              "      <td>0.0</td>\n",
              "      <td>0.0</td>\n",
              "      <td>0.0</td>\n",
              "    </tr>\n",
              "    <tr>\n",
              "      <th>3</th>\n",
              "      <td>3</td>\n",
              "      <td>0.0</td>\n",
              "      <td>0.0</td>\n",
              "      <td>0.0</td>\n",
              "      <td>0.0</td>\n",
              "      <td>0.0</td>\n",
              "      <td>0.0</td>\n",
              "      <td>0.0</td>\n",
              "      <td>0.0</td>\n",
              "      <td>0.0</td>\n",
              "      <td>...</td>\n",
              "      <td>0.0</td>\n",
              "      <td>0.0</td>\n",
              "      <td>0.0</td>\n",
              "      <td>0.0</td>\n",
              "      <td>0.0</td>\n",
              "      <td>0.0</td>\n",
              "      <td>0.0</td>\n",
              "      <td>0.0</td>\n",
              "      <td>0.0</td>\n",
              "      <td>0.0</td>\n",
              "    </tr>\n",
              "    <tr>\n",
              "      <th>4</th>\n",
              "      <td>4</td>\n",
              "      <td>0.0</td>\n",
              "      <td>0.0</td>\n",
              "      <td>0.0</td>\n",
              "      <td>0.0</td>\n",
              "      <td>0.0</td>\n",
              "      <td>0.0</td>\n",
              "      <td>0.0</td>\n",
              "      <td>0.0</td>\n",
              "      <td>0.0</td>\n",
              "      <td>...</td>\n",
              "      <td>0.0</td>\n",
              "      <td>0.0</td>\n",
              "      <td>0.0</td>\n",
              "      <td>0.0</td>\n",
              "      <td>0.0</td>\n",
              "      <td>0.0</td>\n",
              "      <td>0.0</td>\n",
              "      <td>0.0</td>\n",
              "      <td>0.0</td>\n",
              "      <td>0.0</td>\n",
              "    </tr>\n",
              "    <tr>\n",
              "      <th>...</th>\n",
              "      <td>...</td>\n",
              "      <td>...</td>\n",
              "      <td>...</td>\n",
              "      <td>...</td>\n",
              "      <td>...</td>\n",
              "      <td>...</td>\n",
              "      <td>...</td>\n",
              "      <td>...</td>\n",
              "      <td>...</td>\n",
              "      <td>...</td>\n",
              "      <td>...</td>\n",
              "      <td>...</td>\n",
              "      <td>...</td>\n",
              "      <td>...</td>\n",
              "      <td>...</td>\n",
              "      <td>...</td>\n",
              "      <td>...</td>\n",
              "      <td>...</td>\n",
              "      <td>...</td>\n",
              "      <td>...</td>\n",
              "      <td>...</td>\n",
              "    </tr>\n",
              "    <tr>\n",
              "      <th>108814</th>\n",
              "      <td>108814</td>\n",
              "      <td>0.0</td>\n",
              "      <td>0.0</td>\n",
              "      <td>0.0</td>\n",
              "      <td>0.0</td>\n",
              "      <td>0.0</td>\n",
              "      <td>0.0</td>\n",
              "      <td>0.0</td>\n",
              "      <td>0.0</td>\n",
              "      <td>0.0</td>\n",
              "      <td>...</td>\n",
              "      <td>0.0</td>\n",
              "      <td>0.0</td>\n",
              "      <td>0.0</td>\n",
              "      <td>0.0</td>\n",
              "      <td>0.0</td>\n",
              "      <td>0.0</td>\n",
              "      <td>0.0</td>\n",
              "      <td>0.0</td>\n",
              "      <td>0.0</td>\n",
              "      <td>0.0</td>\n",
              "    </tr>\n",
              "    <tr>\n",
              "      <th>108815</th>\n",
              "      <td>108815</td>\n",
              "      <td>0.0</td>\n",
              "      <td>0.0</td>\n",
              "      <td>0.0</td>\n",
              "      <td>0.0</td>\n",
              "      <td>0.0</td>\n",
              "      <td>0.0</td>\n",
              "      <td>0.0</td>\n",
              "      <td>0.0</td>\n",
              "      <td>0.0</td>\n",
              "      <td>...</td>\n",
              "      <td>0.0</td>\n",
              "      <td>0.0</td>\n",
              "      <td>0.0</td>\n",
              "      <td>0.0</td>\n",
              "      <td>0.0</td>\n",
              "      <td>0.0</td>\n",
              "      <td>0.0</td>\n",
              "      <td>0.0</td>\n",
              "      <td>0.0</td>\n",
              "      <td>0.0</td>\n",
              "    </tr>\n",
              "    <tr>\n",
              "      <th>108816</th>\n",
              "      <td>108816</td>\n",
              "      <td>0.0</td>\n",
              "      <td>0.0</td>\n",
              "      <td>0.0</td>\n",
              "      <td>0.0</td>\n",
              "      <td>0.0</td>\n",
              "      <td>0.0</td>\n",
              "      <td>0.0</td>\n",
              "      <td>0.0</td>\n",
              "      <td>0.0</td>\n",
              "      <td>...</td>\n",
              "      <td>0.0</td>\n",
              "      <td>0.0</td>\n",
              "      <td>0.0</td>\n",
              "      <td>0.0</td>\n",
              "      <td>0.0</td>\n",
              "      <td>0.0</td>\n",
              "      <td>0.0</td>\n",
              "      <td>0.0</td>\n",
              "      <td>0.0</td>\n",
              "      <td>0.0</td>\n",
              "    </tr>\n",
              "    <tr>\n",
              "      <th>108817</th>\n",
              "      <td>108817</td>\n",
              "      <td>0.0</td>\n",
              "      <td>0.0</td>\n",
              "      <td>0.0</td>\n",
              "      <td>0.0</td>\n",
              "      <td>0.0</td>\n",
              "      <td>0.0</td>\n",
              "      <td>0.0</td>\n",
              "      <td>0.0</td>\n",
              "      <td>0.0</td>\n",
              "      <td>...</td>\n",
              "      <td>0.0</td>\n",
              "      <td>0.0</td>\n",
              "      <td>0.0</td>\n",
              "      <td>0.0</td>\n",
              "      <td>0.0</td>\n",
              "      <td>0.0</td>\n",
              "      <td>0.0</td>\n",
              "      <td>0.0</td>\n",
              "      <td>0.0</td>\n",
              "      <td>0.0</td>\n",
              "    </tr>\n",
              "    <tr>\n",
              "      <th>108818</th>\n",
              "      <td>108818</td>\n",
              "      <td>0.0</td>\n",
              "      <td>0.0</td>\n",
              "      <td>0.0</td>\n",
              "      <td>0.0</td>\n",
              "      <td>0.0</td>\n",
              "      <td>0.0</td>\n",
              "      <td>0.0</td>\n",
              "      <td>0.0</td>\n",
              "      <td>0.0</td>\n",
              "      <td>...</td>\n",
              "      <td>0.0</td>\n",
              "      <td>0.0</td>\n",
              "      <td>0.0</td>\n",
              "      <td>0.0</td>\n",
              "      <td>0.0</td>\n",
              "      <td>0.0</td>\n",
              "      <td>0.0</td>\n",
              "      <td>0.0</td>\n",
              "      <td>0.0</td>\n",
              "      <td>0.0</td>\n",
              "    </tr>\n",
              "  </tbody>\n",
              "</table>\n",
              "<p>108819 rows × 97 columns</p>\n",
              "</div>\n",
              "      <button class=\"colab-df-convert\" onclick=\"convertToInteractive('df-ebeb05ab-fe64-4b00-986d-d8ca1fe74392')\"\n",
              "              title=\"Convert this dataframe to an interactive table.\"\n",
              "              style=\"display:none;\">\n",
              "        \n",
              "  <svg xmlns=\"http://www.w3.org/2000/svg\" height=\"24px\"viewBox=\"0 0 24 24\"\n",
              "       width=\"24px\">\n",
              "    <path d=\"M0 0h24v24H0V0z\" fill=\"none\"/>\n",
              "    <path d=\"M18.56 5.44l.94 2.06.94-2.06 2.06-.94-2.06-.94-.94-2.06-.94 2.06-2.06.94zm-11 1L8.5 8.5l.94-2.06 2.06-.94-2.06-.94L8.5 2.5l-.94 2.06-2.06.94zm10 10l.94 2.06.94-2.06 2.06-.94-2.06-.94-.94-2.06-.94 2.06-2.06.94z\"/><path d=\"M17.41 7.96l-1.37-1.37c-.4-.4-.92-.59-1.43-.59-.52 0-1.04.2-1.43.59L10.3 9.45l-7.72 7.72c-.78.78-.78 2.05 0 2.83L4 21.41c.39.39.9.59 1.41.59.51 0 1.02-.2 1.41-.59l7.78-7.78 2.81-2.81c.8-.78.8-2.07 0-2.86zM5.41 20L4 18.59l7.72-7.72 1.47 1.35L5.41 20z\"/>\n",
              "  </svg>\n",
              "      </button>\n",
              "      \n",
              "  <style>\n",
              "    .colab-df-container {\n",
              "      display:flex;\n",
              "      flex-wrap:wrap;\n",
              "      gap: 12px;\n",
              "    }\n",
              "\n",
              "    .colab-df-convert {\n",
              "      background-color: #E8F0FE;\n",
              "      border: none;\n",
              "      border-radius: 50%;\n",
              "      cursor: pointer;\n",
              "      display: none;\n",
              "      fill: #1967D2;\n",
              "      height: 32px;\n",
              "      padding: 0 0 0 0;\n",
              "      width: 32px;\n",
              "    }\n",
              "\n",
              "    .colab-df-convert:hover {\n",
              "      background-color: #E2EBFA;\n",
              "      box-shadow: 0px 1px 2px rgba(60, 64, 67, 0.3), 0px 1px 3px 1px rgba(60, 64, 67, 0.15);\n",
              "      fill: #174EA6;\n",
              "    }\n",
              "\n",
              "    [theme=dark] .colab-df-convert {\n",
              "      background-color: #3B4455;\n",
              "      fill: #D2E3FC;\n",
              "    }\n",
              "\n",
              "    [theme=dark] .colab-df-convert:hover {\n",
              "      background-color: #434B5C;\n",
              "      box-shadow: 0px 1px 3px 1px rgba(0, 0, 0, 0.15);\n",
              "      filter: drop-shadow(0px 1px 2px rgba(0, 0, 0, 0.3));\n",
              "      fill: #FFFFFF;\n",
              "    }\n",
              "  </style>\n",
              "\n",
              "      <script>\n",
              "        const buttonEl =\n",
              "          document.querySelector('#df-ebeb05ab-fe64-4b00-986d-d8ca1fe74392 button.colab-df-convert');\n",
              "        buttonEl.style.display =\n",
              "          google.colab.kernel.accessAllowed ? 'block' : 'none';\n",
              "\n",
              "        async function convertToInteractive(key) {\n",
              "          const element = document.querySelector('#df-ebeb05ab-fe64-4b00-986d-d8ca1fe74392');\n",
              "          const dataTable =\n",
              "            await google.colab.kernel.invokeFunction('convertToInteractive',\n",
              "                                                     [key], {});\n",
              "          if (!dataTable) return;\n",
              "\n",
              "          const docLinkHtml = 'Like what you see? Visit the ' +\n",
              "            '<a target=\"_blank\" href=https://colab.research.google.com/notebooks/data_table.ipynb>data table notebook</a>'\n",
              "            + ' to learn more about interactive tables.';\n",
              "          element.innerHTML = '';\n",
              "          dataTable['output_type'] = 'display_data';\n",
              "          await google.colab.output.renderOutput(dataTable, element);\n",
              "          const docLink = document.createElement('div');\n",
              "          docLink.innerHTML = docLinkHtml;\n",
              "          element.appendChild(docLink);\n",
              "        }\n",
              "      </script>\n",
              "    </div>\n",
              "  </div>\n",
              "  "
            ]
          },
          "metadata": {},
          "execution_count": 3
        }
      ],
      "source": [
        "x"
      ]
    },
    {
      "cell_type": "code",
      "execution_count": null,
      "metadata": {
        "colab": {
          "base_uri": "https://localhost:8080/",
          "height": 505
        },
        "id": "HGW-JxIL1jYe",
        "outputId": "00feaa20-7694-41f0-ab4a-52a1a1e8d90b"
      },
      "outputs": [
        {
          "output_type": "execute_result",
          "data": {
            "text/plain": [
              "        Unnamed: 0  0:30-day1  1:00-day1  1:30-day1  2:00-day1  2:30-day1  \\\n",
              "0                0        0.0        0.0        0.0        0.0        0.0   \n",
              "1                1        0.0        0.0        0.0        0.0        0.0   \n",
              "2                2        0.0        0.0        0.0        0.0        0.0   \n",
              "3                3        0.0        0.0        0.0        0.0        0.0   \n",
              "4                4        0.0        0.0        0.0        0.0        0.0   \n",
              "...            ...        ...        ...        ...        ...        ...   \n",
              "108814      108814        0.0        0.0        0.0        0.0        0.0   \n",
              "108815      108815        0.0        0.0        0.0        0.0        0.0   \n",
              "108816      108816        0.0        0.0        0.0        0.0        0.0   \n",
              "108817      108817        0.0        0.0        0.0        0.0        0.0   \n",
              "108818      108818        0.0        0.0        0.0        0.0        0.0   \n",
              "\n",
              "        3:00-day1  3:30-day1  4:00-day1  4:30-day1  ...  19:30-day1  \\\n",
              "0             0.0        0.0        0.0        0.0  ...         0.0   \n",
              "1             0.0        0.0        0.0        0.0  ...         0.0   \n",
              "2             0.0        0.0        0.0        0.0  ...         0.0   \n",
              "3             0.0        0.0        0.0        0.0  ...         0.0   \n",
              "4             0.0        0.0        0.0        0.0  ...         0.0   \n",
              "...           ...        ...        ...        ...  ...         ...   \n",
              "108814        0.0        0.0        0.0        0.0  ...         0.0   \n",
              "108815        0.0        0.0        0.0        0.0  ...         0.0   \n",
              "108816        0.0        0.0        0.0        0.0  ...         0.0   \n",
              "108817        0.0        0.0        0.0        0.0  ...         0.0   \n",
              "108818        0.0        0.0        0.0        0.0  ...         0.0   \n",
              "\n",
              "        20:00-day1  20:30-day1  21:00-day1  21:30-day1  22:00-day1  \\\n",
              "0              0.0         0.0         0.0         0.0         0.0   \n",
              "1              0.0         0.0         0.0         0.0         0.0   \n",
              "2              0.0         0.0         0.0         0.0         0.0   \n",
              "3              0.0         0.0         0.0         0.0         0.0   \n",
              "4              0.0         0.0         0.0         0.0         0.0   \n",
              "...            ...         ...         ...         ...         ...   \n",
              "108814         0.0         0.0         0.0         0.0         0.0   \n",
              "108815         0.0         0.0         0.0         0.0         0.0   \n",
              "108816         0.0         0.0         0.0         0.0         0.0   \n",
              "108817         0.0         0.0         0.0         0.0         0.0   \n",
              "108818         0.0         0.0         0.0         0.0         0.0   \n",
              "\n",
              "        22:30-day1  23:00-day1  23:30-day1  0:00-day1  \n",
              "0              0.0         0.0         0.0        0.0  \n",
              "1              0.0         0.0         0.0        0.0  \n",
              "2              0.0         0.0         0.0        0.0  \n",
              "3              0.0         0.0         0.0        0.0  \n",
              "4              0.0         0.0         0.0        0.0  \n",
              "...            ...         ...         ...        ...  \n",
              "108814         0.0         0.0         0.0        0.0  \n",
              "108815         0.0         0.0         0.0        0.0  \n",
              "108816         0.0         0.0         0.0        0.0  \n",
              "108817         0.0         0.0         0.0        0.0  \n",
              "108818         0.0         0.0         0.0        0.0  \n",
              "\n",
              "[108819 rows x 49 columns]"
            ],
            "text/html": [
              "\n",
              "  <div id=\"df-7b996024-dc3e-4cbb-b0b8-0f31caf68562\">\n",
              "    <div class=\"colab-df-container\">\n",
              "      <div>\n",
              "<style scoped>\n",
              "    .dataframe tbody tr th:only-of-type {\n",
              "        vertical-align: middle;\n",
              "    }\n",
              "\n",
              "    .dataframe tbody tr th {\n",
              "        vertical-align: top;\n",
              "    }\n",
              "\n",
              "    .dataframe thead th {\n",
              "        text-align: right;\n",
              "    }\n",
              "</style>\n",
              "<table border=\"1\" class=\"dataframe\">\n",
              "  <thead>\n",
              "    <tr style=\"text-align: right;\">\n",
              "      <th></th>\n",
              "      <th>Unnamed: 0</th>\n",
              "      <th>0:30-day1</th>\n",
              "      <th>1:00-day1</th>\n",
              "      <th>1:30-day1</th>\n",
              "      <th>2:00-day1</th>\n",
              "      <th>2:30-day1</th>\n",
              "      <th>3:00-day1</th>\n",
              "      <th>3:30-day1</th>\n",
              "      <th>4:00-day1</th>\n",
              "      <th>4:30-day1</th>\n",
              "      <th>...</th>\n",
              "      <th>19:30-day1</th>\n",
              "      <th>20:00-day1</th>\n",
              "      <th>20:30-day1</th>\n",
              "      <th>21:00-day1</th>\n",
              "      <th>21:30-day1</th>\n",
              "      <th>22:00-day1</th>\n",
              "      <th>22:30-day1</th>\n",
              "      <th>23:00-day1</th>\n",
              "      <th>23:30-day1</th>\n",
              "      <th>0:00-day1</th>\n",
              "    </tr>\n",
              "  </thead>\n",
              "  <tbody>\n",
              "    <tr>\n",
              "      <th>0</th>\n",
              "      <td>0</td>\n",
              "      <td>0.0</td>\n",
              "      <td>0.0</td>\n",
              "      <td>0.0</td>\n",
              "      <td>0.0</td>\n",
              "      <td>0.0</td>\n",
              "      <td>0.0</td>\n",
              "      <td>0.0</td>\n",
              "      <td>0.0</td>\n",
              "      <td>0.0</td>\n",
              "      <td>...</td>\n",
              "      <td>0.0</td>\n",
              "      <td>0.0</td>\n",
              "      <td>0.0</td>\n",
              "      <td>0.0</td>\n",
              "      <td>0.0</td>\n",
              "      <td>0.0</td>\n",
              "      <td>0.0</td>\n",
              "      <td>0.0</td>\n",
              "      <td>0.0</td>\n",
              "      <td>0.0</td>\n",
              "    </tr>\n",
              "    <tr>\n",
              "      <th>1</th>\n",
              "      <td>1</td>\n",
              "      <td>0.0</td>\n",
              "      <td>0.0</td>\n",
              "      <td>0.0</td>\n",
              "      <td>0.0</td>\n",
              "      <td>0.0</td>\n",
              "      <td>0.0</td>\n",
              "      <td>0.0</td>\n",
              "      <td>0.0</td>\n",
              "      <td>0.0</td>\n",
              "      <td>...</td>\n",
              "      <td>0.0</td>\n",
              "      <td>0.0</td>\n",
              "      <td>0.0</td>\n",
              "      <td>0.0</td>\n",
              "      <td>0.0</td>\n",
              "      <td>0.0</td>\n",
              "      <td>0.0</td>\n",
              "      <td>0.0</td>\n",
              "      <td>0.0</td>\n",
              "      <td>0.0</td>\n",
              "    </tr>\n",
              "    <tr>\n",
              "      <th>2</th>\n",
              "      <td>2</td>\n",
              "      <td>0.0</td>\n",
              "      <td>0.0</td>\n",
              "      <td>0.0</td>\n",
              "      <td>0.0</td>\n",
              "      <td>0.0</td>\n",
              "      <td>0.0</td>\n",
              "      <td>0.0</td>\n",
              "      <td>0.0</td>\n",
              "      <td>0.0</td>\n",
              "      <td>...</td>\n",
              "      <td>0.0</td>\n",
              "      <td>0.0</td>\n",
              "      <td>0.0</td>\n",
              "      <td>0.0</td>\n",
              "      <td>0.0</td>\n",
              "      <td>0.0</td>\n",
              "      <td>0.0</td>\n",
              "      <td>0.0</td>\n",
              "      <td>0.0</td>\n",
              "      <td>0.0</td>\n",
              "    </tr>\n",
              "    <tr>\n",
              "      <th>3</th>\n",
              "      <td>3</td>\n",
              "      <td>0.0</td>\n",
              "      <td>0.0</td>\n",
              "      <td>0.0</td>\n",
              "      <td>0.0</td>\n",
              "      <td>0.0</td>\n",
              "      <td>0.0</td>\n",
              "      <td>0.0</td>\n",
              "      <td>0.0</td>\n",
              "      <td>0.0</td>\n",
              "      <td>...</td>\n",
              "      <td>0.0</td>\n",
              "      <td>0.0</td>\n",
              "      <td>0.0</td>\n",
              "      <td>0.0</td>\n",
              "      <td>0.0</td>\n",
              "      <td>0.0</td>\n",
              "      <td>0.0</td>\n",
              "      <td>0.0</td>\n",
              "      <td>0.0</td>\n",
              "      <td>0.0</td>\n",
              "    </tr>\n",
              "    <tr>\n",
              "      <th>4</th>\n",
              "      <td>4</td>\n",
              "      <td>0.0</td>\n",
              "      <td>0.0</td>\n",
              "      <td>0.0</td>\n",
              "      <td>0.0</td>\n",
              "      <td>0.0</td>\n",
              "      <td>0.0</td>\n",
              "      <td>0.0</td>\n",
              "      <td>0.0</td>\n",
              "      <td>0.0</td>\n",
              "      <td>...</td>\n",
              "      <td>0.0</td>\n",
              "      <td>0.0</td>\n",
              "      <td>0.0</td>\n",
              "      <td>0.0</td>\n",
              "      <td>0.0</td>\n",
              "      <td>0.0</td>\n",
              "      <td>0.0</td>\n",
              "      <td>0.0</td>\n",
              "      <td>0.0</td>\n",
              "      <td>0.0</td>\n",
              "    </tr>\n",
              "    <tr>\n",
              "      <th>...</th>\n",
              "      <td>...</td>\n",
              "      <td>...</td>\n",
              "      <td>...</td>\n",
              "      <td>...</td>\n",
              "      <td>...</td>\n",
              "      <td>...</td>\n",
              "      <td>...</td>\n",
              "      <td>...</td>\n",
              "      <td>...</td>\n",
              "      <td>...</td>\n",
              "      <td>...</td>\n",
              "      <td>...</td>\n",
              "      <td>...</td>\n",
              "      <td>...</td>\n",
              "      <td>...</td>\n",
              "      <td>...</td>\n",
              "      <td>...</td>\n",
              "      <td>...</td>\n",
              "      <td>...</td>\n",
              "      <td>...</td>\n",
              "      <td>...</td>\n",
              "    </tr>\n",
              "    <tr>\n",
              "      <th>108814</th>\n",
              "      <td>108814</td>\n",
              "      <td>0.0</td>\n",
              "      <td>0.0</td>\n",
              "      <td>0.0</td>\n",
              "      <td>0.0</td>\n",
              "      <td>0.0</td>\n",
              "      <td>0.0</td>\n",
              "      <td>0.0</td>\n",
              "      <td>0.0</td>\n",
              "      <td>0.0</td>\n",
              "      <td>...</td>\n",
              "      <td>0.0</td>\n",
              "      <td>0.0</td>\n",
              "      <td>0.0</td>\n",
              "      <td>0.0</td>\n",
              "      <td>0.0</td>\n",
              "      <td>0.0</td>\n",
              "      <td>0.0</td>\n",
              "      <td>0.0</td>\n",
              "      <td>0.0</td>\n",
              "      <td>0.0</td>\n",
              "    </tr>\n",
              "    <tr>\n",
              "      <th>108815</th>\n",
              "      <td>108815</td>\n",
              "      <td>0.0</td>\n",
              "      <td>0.0</td>\n",
              "      <td>0.0</td>\n",
              "      <td>0.0</td>\n",
              "      <td>0.0</td>\n",
              "      <td>0.0</td>\n",
              "      <td>0.0</td>\n",
              "      <td>0.0</td>\n",
              "      <td>0.0</td>\n",
              "      <td>...</td>\n",
              "      <td>0.0</td>\n",
              "      <td>0.0</td>\n",
              "      <td>0.0</td>\n",
              "      <td>0.0</td>\n",
              "      <td>0.0</td>\n",
              "      <td>0.0</td>\n",
              "      <td>0.0</td>\n",
              "      <td>0.0</td>\n",
              "      <td>0.0</td>\n",
              "      <td>0.0</td>\n",
              "    </tr>\n",
              "    <tr>\n",
              "      <th>108816</th>\n",
              "      <td>108816</td>\n",
              "      <td>0.0</td>\n",
              "      <td>0.0</td>\n",
              "      <td>0.0</td>\n",
              "      <td>0.0</td>\n",
              "      <td>0.0</td>\n",
              "      <td>0.0</td>\n",
              "      <td>0.0</td>\n",
              "      <td>0.0</td>\n",
              "      <td>0.0</td>\n",
              "      <td>...</td>\n",
              "      <td>0.0</td>\n",
              "      <td>0.0</td>\n",
              "      <td>0.0</td>\n",
              "      <td>0.0</td>\n",
              "      <td>0.0</td>\n",
              "      <td>0.0</td>\n",
              "      <td>0.0</td>\n",
              "      <td>0.0</td>\n",
              "      <td>0.0</td>\n",
              "      <td>0.0</td>\n",
              "    </tr>\n",
              "    <tr>\n",
              "      <th>108817</th>\n",
              "      <td>108817</td>\n",
              "      <td>0.0</td>\n",
              "      <td>0.0</td>\n",
              "      <td>0.0</td>\n",
              "      <td>0.0</td>\n",
              "      <td>0.0</td>\n",
              "      <td>0.0</td>\n",
              "      <td>0.0</td>\n",
              "      <td>0.0</td>\n",
              "      <td>0.0</td>\n",
              "      <td>...</td>\n",
              "      <td>0.0</td>\n",
              "      <td>0.0</td>\n",
              "      <td>0.0</td>\n",
              "      <td>0.0</td>\n",
              "      <td>0.0</td>\n",
              "      <td>0.0</td>\n",
              "      <td>0.0</td>\n",
              "      <td>0.0</td>\n",
              "      <td>0.0</td>\n",
              "      <td>0.0</td>\n",
              "    </tr>\n",
              "    <tr>\n",
              "      <th>108818</th>\n",
              "      <td>108818</td>\n",
              "      <td>0.0</td>\n",
              "      <td>0.0</td>\n",
              "      <td>0.0</td>\n",
              "      <td>0.0</td>\n",
              "      <td>0.0</td>\n",
              "      <td>0.0</td>\n",
              "      <td>0.0</td>\n",
              "      <td>0.0</td>\n",
              "      <td>0.0</td>\n",
              "      <td>...</td>\n",
              "      <td>0.0</td>\n",
              "      <td>0.0</td>\n",
              "      <td>0.0</td>\n",
              "      <td>0.0</td>\n",
              "      <td>0.0</td>\n",
              "      <td>0.0</td>\n",
              "      <td>0.0</td>\n",
              "      <td>0.0</td>\n",
              "      <td>0.0</td>\n",
              "      <td>0.0</td>\n",
              "    </tr>\n",
              "  </tbody>\n",
              "</table>\n",
              "<p>108819 rows × 49 columns</p>\n",
              "</div>\n",
              "      <button class=\"colab-df-convert\" onclick=\"convertToInteractive('df-7b996024-dc3e-4cbb-b0b8-0f31caf68562')\"\n",
              "              title=\"Convert this dataframe to an interactive table.\"\n",
              "              style=\"display:none;\">\n",
              "        \n",
              "  <svg xmlns=\"http://www.w3.org/2000/svg\" height=\"24px\"viewBox=\"0 0 24 24\"\n",
              "       width=\"24px\">\n",
              "    <path d=\"M0 0h24v24H0V0z\" fill=\"none\"/>\n",
              "    <path d=\"M18.56 5.44l.94 2.06.94-2.06 2.06-.94-2.06-.94-.94-2.06-.94 2.06-2.06.94zm-11 1L8.5 8.5l.94-2.06 2.06-.94-2.06-.94L8.5 2.5l-.94 2.06-2.06.94zm10 10l.94 2.06.94-2.06 2.06-.94-2.06-.94-.94-2.06-.94 2.06-2.06.94z\"/><path d=\"M17.41 7.96l-1.37-1.37c-.4-.4-.92-.59-1.43-.59-.52 0-1.04.2-1.43.59L10.3 9.45l-7.72 7.72c-.78.78-.78 2.05 0 2.83L4 21.41c.39.39.9.59 1.41.59.51 0 1.02-.2 1.41-.59l7.78-7.78 2.81-2.81c.8-.78.8-2.07 0-2.86zM5.41 20L4 18.59l7.72-7.72 1.47 1.35L5.41 20z\"/>\n",
              "  </svg>\n",
              "      </button>\n",
              "      \n",
              "  <style>\n",
              "    .colab-df-container {\n",
              "      display:flex;\n",
              "      flex-wrap:wrap;\n",
              "      gap: 12px;\n",
              "    }\n",
              "\n",
              "    .colab-df-convert {\n",
              "      background-color: #E8F0FE;\n",
              "      border: none;\n",
              "      border-radius: 50%;\n",
              "      cursor: pointer;\n",
              "      display: none;\n",
              "      fill: #1967D2;\n",
              "      height: 32px;\n",
              "      padding: 0 0 0 0;\n",
              "      width: 32px;\n",
              "    }\n",
              "\n",
              "    .colab-df-convert:hover {\n",
              "      background-color: #E2EBFA;\n",
              "      box-shadow: 0px 1px 2px rgba(60, 64, 67, 0.3), 0px 1px 3px 1px rgba(60, 64, 67, 0.15);\n",
              "      fill: #174EA6;\n",
              "    }\n",
              "\n",
              "    [theme=dark] .colab-df-convert {\n",
              "      background-color: #3B4455;\n",
              "      fill: #D2E3FC;\n",
              "    }\n",
              "\n",
              "    [theme=dark] .colab-df-convert:hover {\n",
              "      background-color: #434B5C;\n",
              "      box-shadow: 0px 1px 3px 1px rgba(0, 0, 0, 0.15);\n",
              "      filter: drop-shadow(0px 1px 2px rgba(0, 0, 0, 0.3));\n",
              "      fill: #FFFFFF;\n",
              "    }\n",
              "  </style>\n",
              "\n",
              "      <script>\n",
              "        const buttonEl =\n",
              "          document.querySelector('#df-7b996024-dc3e-4cbb-b0b8-0f31caf68562 button.colab-df-convert');\n",
              "        buttonEl.style.display =\n",
              "          google.colab.kernel.accessAllowed ? 'block' : 'none';\n",
              "\n",
              "        async function convertToInteractive(key) {\n",
              "          const element = document.querySelector('#df-7b996024-dc3e-4cbb-b0b8-0f31caf68562');\n",
              "          const dataTable =\n",
              "            await google.colab.kernel.invokeFunction('convertToInteractive',\n",
              "                                                     [key], {});\n",
              "          if (!dataTable) return;\n",
              "\n",
              "          const docLinkHtml = 'Like what you see? Visit the ' +\n",
              "            '<a target=\"_blank\" href=https://colab.research.google.com/notebooks/data_table.ipynb>data table notebook</a>'\n",
              "            + ' to learn more about interactive tables.';\n",
              "          element.innerHTML = '';\n",
              "          dataTable['output_type'] = 'display_data';\n",
              "          await google.colab.output.renderOutput(dataTable, element);\n",
              "          const docLink = document.createElement('div');\n",
              "          docLink.innerHTML = docLinkHtml;\n",
              "          element.appendChild(docLink);\n",
              "        }\n",
              "      </script>\n",
              "    </div>\n",
              "  </div>\n",
              "  "
            ]
          },
          "metadata": {},
          "execution_count": 4
        }
      ],
      "source": [
        "y"
      ]
    },
    {
      "cell_type": "code",
      "execution_count": null,
      "metadata": {
        "id": "ddwp_1MP1f-K"
      },
      "outputs": [],
      "source": [
        "x = x.drop([\"Unnamed: 0\"], axis=1)\n",
        "y = y.drop([\"Unnamed: 0\"], axis=1)"
      ]
    },
    {
      "cell_type": "code",
      "execution_count": null,
      "metadata": {
        "colab": {
          "base_uri": "https://localhost:8080/"
        },
        "id": "nLxeiT7b1nop",
        "outputId": "1c3b302f-54b3-4b85-d893-b969cc90fdbe"
      },
      "outputs": [
        {
          "output_type": "stream",
          "name": "stdout",
          "text": [
            "(108819, 96)\n",
            "(108819, 48)\n"
          ]
        }
      ],
      "source": [
        "print(x.shape)\n",
        "print(y.shape)"
      ]
    },
    {
      "cell_type": "markdown",
      "metadata": {
        "id": "EKr_QArk1wyD"
      },
      "source": [
        "#Train Test Split"
      ]
    },
    {
      "cell_type": "code",
      "execution_count": null,
      "metadata": {
        "id": "2yhGWRYN1yCy"
      },
      "outputs": [],
      "source": [
        "from sklearn.model_selection import train_test_split\n",
        "x_train, x_test, y_train, y_test = train_test_split(x, y, test_size = 0.1, random_state = 1, shuffle = False)"
      ]
    },
    {
      "cell_type": "markdown",
      "metadata": {
        "id": "Hct7jdsD117r"
      },
      "source": [
        "#Normalizing our data"
      ]
    },
    {
      "cell_type": "code",
      "execution_count": null,
      "metadata": {
        "id": "vPThXHMp14Dn"
      },
      "outputs": [],
      "source": [
        "# data normalization with sklearn\n",
        "from sklearn.preprocessing import MinMaxScaler\n",
        "\n",
        "# fit scaler on training data\n",
        "norm = MinMaxScaler().fit(x_train)\n",
        "\n",
        "# transform training data\n",
        "x_train_norm = norm.transform(x_train)\n",
        "\n",
        "# transform testing dataabs\n",
        "x_test_norm = norm.transform(x_test)"
      ]
    },
    {
      "cell_type": "markdown",
      "metadata": {
        "id": "FlHSQUOH18i7"
      },
      "source": [
        "#Linear Regression Model"
      ]
    },
    {
      "cell_type": "code",
      "execution_count": null,
      "metadata": {
        "colab": {
          "base_uri": "https://localhost:8080/"
        },
        "id": "otpQYMBw5jCa",
        "outputId": "586eb084-79bc-48e0-d05a-ed80a528d144"
      },
      "outputs": [
        {
          "output_type": "stream",
          "name": "stdout",
          "text": [
            "RMSE: 0.09640168156200711\n",
            "MAE: 0.03693860524719849\n"
          ]
        }
      ],
      "source": [
        "from sklearn.linear_model import LinearRegression\n",
        "from sklearn.metrics import mean_squared_error\n",
        "from sklearn.metrics import mean_absolute_error\n",
        "import numpy as np\n",
        "\n",
        "#model\n",
        "lr = LinearRegression()\n",
        "\n",
        "# fit\n",
        "lr.fit(x_train_norm, y_train)\n",
        "\n",
        "# predict\n",
        "pred = lr.predict(x_test_norm)\n",
        "\n",
        "# RMSE\n",
        "print(\"RMSE: \" + str(np.sqrt(mean_squared_error(y_test,pred))))\n",
        "\n",
        "#MAE\n",
        "print(\"MAE: \" + str(mean_absolute_error(y_test, pred)))"
      ]
    },
    {
      "cell_type": "code",
      "execution_count": null,
      "metadata": {
        "colab": {
          "base_uri": "https://localhost:8080/"
        },
        "id": "nPmDHGrr7F6Y",
        "outputId": "04b258a3-41d8-4152-d2be-f354cbd116c3"
      },
      "outputs": [
        {
          "output_type": "stream",
          "name": "stdout",
          "text": [
            "Pearsons correlation: 0.9277\n"
          ]
        }
      ],
      "source": [
        "#Finding pearson's correlation coefficient between\n",
        "#real value and predicted value\n",
        "\n",
        "y_test = np.array(y_test, dtype ='float32')\n",
        "pred = np.array(pred, dtype ='float32')\n",
        "new_y = y_test.reshape(522336, 1)\n",
        "new_y = np.squeeze(new_y)\n",
        "new_p = pred.reshape(522336, 1)\n",
        "new_p = np.squeeze(new_p)\n",
        "\n",
        "from scipy.stats import pearsonr\n",
        "corr, _ = pearsonr(new_p, new_y)\n",
        "print('Pearsons correlation: %.4f' % corr)"
      ]
    },
    {
      "cell_type": "markdown",
      "metadata": {
        "id": "EipRusAf7HNW"
      },
      "source": [
        "#KNN Model"
      ]
    },
    {
      "cell_type": "code",
      "execution_count": null,
      "metadata": {
        "colab": {
          "base_uri": "https://localhost:8080/"
        },
        "id": "sVV5znxH7IrX",
        "outputId": "e27689bb-fbf8-48c3-e92f-53472e33bd52"
      },
      "outputs": [
        {
          "output_type": "stream",
          "name": "stdout",
          "text": [
            "RMSE: 0.09369293406098403\n",
            "MAE: 0.03529524979122278\n"
          ]
        }
      ],
      "source": [
        "from sklearn.neighbors import KNeighborsRegressor\n",
        "from sklearn.metrics import mean_squared_error\n",
        "\n",
        "#model\n",
        "knn = KNeighborsRegressor(n_neighbors=7)\n",
        "\n",
        "# fit\n",
        "knn.fit(x_train_norm,y_train)\n",
        "\n",
        "# predict\n",
        "pred = knn.predict(x_test_norm)\n",
        "\n",
        "# RMSE\n",
        "print(\"RMSE: \" + str(np.sqrt(mean_squared_error(y_test,pred))))\n",
        "\n",
        "#MAE\n",
        "print(\"MAE: \" + str(mean_absolute_error(y_test, pred)))"
      ]
    },
    {
      "cell_type": "code",
      "execution_count": null,
      "metadata": {
        "colab": {
          "base_uri": "https://localhost:8080/"
        },
        "id": "hNPXrKJX7NPn",
        "outputId": "2d526cda-ee5c-496e-dc91-c53fbba5168c"
      },
      "outputs": [
        {
          "output_type": "stream",
          "name": "stdout",
          "text": [
            "Pearsons correlation: 0.9333\n"
          ]
        }
      ],
      "source": [
        "#Finding pearson's correlation coefficient between\n",
        "#real value and predicted value\n",
        "\n",
        "y_test = np.array(y_test, dtype ='float32')\n",
        "pred = np.array(pred, dtype ='float32')\n",
        "new_y = y_test.reshape(522336, 1)\n",
        "new_y = np.squeeze(new_y)\n",
        "new_p = pred.reshape(522336, 1)\n",
        "new_p = np.squeeze(new_p)\n",
        "\n",
        "from scipy.stats import pearsonr\n",
        "corr, _ = pearsonr(new_p, new_y)\n",
        "print('Pearsons correlation: %.4f' % corr)"
      ]
    },
    {
      "cell_type": "markdown",
      "metadata": {
        "id": "KlXm4LBd7Nq2"
      },
      "source": [
        "#Decision Tree"
      ]
    },
    {
      "cell_type": "code",
      "execution_count": null,
      "metadata": {
        "colab": {
          "base_uri": "https://localhost:8080/"
        },
        "id": "_ZDETSZa7PAS",
        "outputId": "2ffaa700-e8d5-4605-97b9-f3618c68dd1b"
      },
      "outputs": [
        {
          "output_type": "stream",
          "name": "stdout",
          "text": [
            "RMSE: 0.1045509266479994\n",
            "MAE: 0.04215213909541101\n"
          ]
        }
      ],
      "source": [
        "from sklearn.tree import DecisionTreeRegressor\n",
        "from sklearn.metrics import mean_squared_error\n",
        "\n",
        "# model\n",
        "dt = DecisionTreeRegressor(max_depth=10,random_state=27)\n",
        "\n",
        "# fit\n",
        "dt.fit(x_train_norm, y_train)\n",
        "\n",
        "# predict\n",
        "pred = dt.predict(x_test_norm)\n",
        "\n",
        "# RMSE\n",
        "print(\"RMSE: \" + str(np.sqrt(mean_squared_error(y_test,pred))))\n",
        "\n",
        "#MAE\n",
        "print(\"MAE: \" + str(mean_absolute_error(y_test, pred)))"
      ]
    },
    {
      "cell_type": "code",
      "execution_count": null,
      "metadata": {
        "colab": {
          "base_uri": "https://localhost:8080/"
        },
        "id": "552AHOJJ7P7g",
        "outputId": "af70a811-4fe2-41b9-9f9b-b856a9c3cc29"
      },
      "outputs": [
        {
          "output_type": "stream",
          "name": "stdout",
          "text": [
            "Pearsons correlation: 0.9145\n"
          ]
        }
      ],
      "source": [
        "#Finding pearson's correlation coefficient between\n",
        "#real value and predicted value\n",
        "\n",
        "y_test = np.array(y_test, dtype ='float32')\n",
        "pred = np.array(pred, dtype ='float32')\n",
        "new_y = y_test.reshape(522336, 1)\n",
        "new_y = np.squeeze(new_y)\n",
        "new_p = pred.reshape(522336, 1)\n",
        "new_p = np.squeeze(new_p)\n",
        "\n",
        "from scipy.stats import pearsonr\n",
        "corr, _ = pearsonr(new_p, new_y)\n",
        "print('Pearsons correlation: %.4f' % corr)"
      ]
    },
    {
      "cell_type": "markdown",
      "metadata": {
        "id": "hSZI-7C67QOs"
      },
      "source": [
        "#MLP Regressor"
      ]
    },
    {
      "cell_type": "code",
      "execution_count": null,
      "metadata": {
        "colab": {
          "base_uri": "https://localhost:8080/"
        },
        "id": "eAXrj_5H7ReY",
        "outputId": "aa1b3747-fc6e-4e47-c078-24b086d5b71a"
      },
      "outputs": [
        {
          "output_type": "stream",
          "name": "stdout",
          "text": [
            "RMSE: 0.09228194140984437\n",
            "MAE: 0.0374135487502058\n"
          ]
        }
      ],
      "source": [
        "from sklearn.neural_network import MLPRegressor\n",
        "\n",
        "#model\n",
        "mlp = MLPRegressor(random_state=1, max_iter=30)\n",
        "\n",
        "# fit\n",
        "mlp.fit(x_train_norm,y_train)\n",
        "\n",
        "# predict\n",
        "pred = mlp.predict(x_test_norm)\n",
        "\n",
        "# RMSE\n",
        "print(\"RMSE: \" + str(np.sqrt(mean_squared_error(y_test,pred))))\n",
        "\n",
        "#MAE\n",
        "print(\"MAE: \" + str(mean_absolute_error(y_test, pred)))"
      ]
    },
    {
      "cell_type": "code",
      "execution_count": null,
      "metadata": {
        "colab": {
          "base_uri": "https://localhost:8080/"
        },
        "id": "l_vSJNRi7S9U",
        "outputId": "5359fd7d-3903-4eea-f684-55a65589740b"
      },
      "outputs": [
        {
          "output_type": "stream",
          "name": "stdout",
          "text": [
            "Pearsons correlation: 0.9340\n"
          ]
        }
      ],
      "source": [
        "#Finding pearson's correlation coefficient between\n",
        "#real value and predicted value\n",
        "\n",
        "y_test = np.array(y_test, dtype ='float32')\n",
        "pred = np.array(pred, dtype ='float32')\n",
        "new_y = y_test.reshape(522336, 1)\n",
        "new_y = np.squeeze(new_y)\n",
        "new_p = pred.reshape(522336, 1)\n",
        "new_p = np.squeeze(new_p)\n",
        "\n",
        "from scipy.stats import pearsonr\n",
        "corr, _ = pearsonr(new_p, new_y)\n",
        "print('Pearsons correlation: %.4f' % corr)"
      ]
    },
    {
      "cell_type": "markdown",
      "metadata": {
        "id": "EWjbPBER7TYf"
      },
      "source": [
        "#Random Forest"
      ]
    },
    {
      "cell_type": "code",
      "execution_count": null,
      "metadata": {
        "colab": {
          "base_uri": "https://localhost:8080/",
          "height": 387
        },
        "id": "3zbx7k_g7WF-",
        "outputId": "3f6e65c7-ef38-4896-ea15-911fffb734a3"
      },
      "outputs": [
        {
          "output_type": "error",
          "ename": "KeyboardInterrupt",
          "evalue": "ignored",
          "traceback": [
            "\u001b[0;31m---------------------------------------------------------------------------\u001b[0m",
            "\u001b[0;31mKeyboardInterrupt\u001b[0m                         Traceback (most recent call last)",
            "\u001b[0;32m<ipython-input-17-28efaac8394c>\u001b[0m in \u001b[0;36m<module>\u001b[0;34m()\u001b[0m\n\u001b[1;32m      5\u001b[0m \u001b[0;34m\u001b[0m\u001b[0m\n\u001b[1;32m      6\u001b[0m \u001b[0;31m# fit\u001b[0m\u001b[0;34m\u001b[0m\u001b[0;34m\u001b[0m\u001b[0;34m\u001b[0m\u001b[0m\n\u001b[0;32m----> 7\u001b[0;31m \u001b[0mrf\u001b[0m\u001b[0;34m.\u001b[0m\u001b[0mfit\u001b[0m\u001b[0;34m(\u001b[0m\u001b[0mx_train_norm\u001b[0m\u001b[0;34m,\u001b[0m\u001b[0my_train\u001b[0m\u001b[0;34m)\u001b[0m\u001b[0;34m\u001b[0m\u001b[0;34m\u001b[0m\u001b[0m\n\u001b[0m\u001b[1;32m      8\u001b[0m \u001b[0;34m\u001b[0m\u001b[0m\n\u001b[1;32m      9\u001b[0m \u001b[0;31m# predict\u001b[0m\u001b[0;34m\u001b[0m\u001b[0;34m\u001b[0m\u001b[0;34m\u001b[0m\u001b[0m\n",
            "\u001b[0;32m/usr/local/lib/python3.7/dist-packages/sklearn/ensemble/_forest.py\u001b[0m in \u001b[0;36mfit\u001b[0;34m(self, X, y, sample_weight)\u001b[0m\n\u001b[1;32m    465\u001b[0m                     \u001b[0mn_samples_bootstrap\u001b[0m\u001b[0;34m=\u001b[0m\u001b[0mn_samples_bootstrap\u001b[0m\u001b[0;34m,\u001b[0m\u001b[0;34m\u001b[0m\u001b[0;34m\u001b[0m\u001b[0m\n\u001b[1;32m    466\u001b[0m                 )\n\u001b[0;32m--> 467\u001b[0;31m                 \u001b[0;32mfor\u001b[0m \u001b[0mi\u001b[0m\u001b[0;34m,\u001b[0m \u001b[0mt\u001b[0m \u001b[0;32min\u001b[0m \u001b[0menumerate\u001b[0m\u001b[0;34m(\u001b[0m\u001b[0mtrees\u001b[0m\u001b[0;34m)\u001b[0m\u001b[0;34m\u001b[0m\u001b[0;34m\u001b[0m\u001b[0m\n\u001b[0m\u001b[1;32m    468\u001b[0m             )\n\u001b[1;32m    469\u001b[0m \u001b[0;34m\u001b[0m\u001b[0m\n",
            "\u001b[0;32m/usr/local/lib/python3.7/dist-packages/joblib/parallel.py\u001b[0m in \u001b[0;36m__call__\u001b[0;34m(self, iterable)\u001b[0m\n\u001b[1;32m   1044\u001b[0m                 \u001b[0mself\u001b[0m\u001b[0;34m.\u001b[0m\u001b[0m_iterating\u001b[0m \u001b[0;34m=\u001b[0m \u001b[0mself\u001b[0m\u001b[0;34m.\u001b[0m\u001b[0m_original_iterator\u001b[0m \u001b[0;32mis\u001b[0m \u001b[0;32mnot\u001b[0m \u001b[0;32mNone\u001b[0m\u001b[0;34m\u001b[0m\u001b[0;34m\u001b[0m\u001b[0m\n\u001b[1;32m   1045\u001b[0m \u001b[0;34m\u001b[0m\u001b[0m\n\u001b[0;32m-> 1046\u001b[0;31m             \u001b[0;32mwhile\u001b[0m \u001b[0mself\u001b[0m\u001b[0;34m.\u001b[0m\u001b[0mdispatch_one_batch\u001b[0m\u001b[0;34m(\u001b[0m\u001b[0miterator\u001b[0m\u001b[0;34m)\u001b[0m\u001b[0;34m:\u001b[0m\u001b[0;34m\u001b[0m\u001b[0;34m\u001b[0m\u001b[0m\n\u001b[0m\u001b[1;32m   1047\u001b[0m                 \u001b[0;32mpass\u001b[0m\u001b[0;34m\u001b[0m\u001b[0;34m\u001b[0m\u001b[0m\n\u001b[1;32m   1048\u001b[0m \u001b[0;34m\u001b[0m\u001b[0m\n",
            "\u001b[0;32m/usr/local/lib/python3.7/dist-packages/joblib/parallel.py\u001b[0m in \u001b[0;36mdispatch_one_batch\u001b[0;34m(self, iterator)\u001b[0m\n\u001b[1;32m    859\u001b[0m                 \u001b[0;32mreturn\u001b[0m \u001b[0;32mFalse\u001b[0m\u001b[0;34m\u001b[0m\u001b[0;34m\u001b[0m\u001b[0m\n\u001b[1;32m    860\u001b[0m             \u001b[0;32melse\u001b[0m\u001b[0;34m:\u001b[0m\u001b[0;34m\u001b[0m\u001b[0;34m\u001b[0m\u001b[0m\n\u001b[0;32m--> 861\u001b[0;31m                 \u001b[0mself\u001b[0m\u001b[0;34m.\u001b[0m\u001b[0m_dispatch\u001b[0m\u001b[0;34m(\u001b[0m\u001b[0mtasks\u001b[0m\u001b[0;34m)\u001b[0m\u001b[0;34m\u001b[0m\u001b[0;34m\u001b[0m\u001b[0m\n\u001b[0m\u001b[1;32m    862\u001b[0m                 \u001b[0;32mreturn\u001b[0m \u001b[0;32mTrue\u001b[0m\u001b[0;34m\u001b[0m\u001b[0;34m\u001b[0m\u001b[0m\n\u001b[1;32m    863\u001b[0m \u001b[0;34m\u001b[0m\u001b[0m\n",
            "\u001b[0;32m/usr/local/lib/python3.7/dist-packages/joblib/parallel.py\u001b[0m in \u001b[0;36m_dispatch\u001b[0;34m(self, batch)\u001b[0m\n\u001b[1;32m    777\u001b[0m         \u001b[0;32mwith\u001b[0m \u001b[0mself\u001b[0m\u001b[0;34m.\u001b[0m\u001b[0m_lock\u001b[0m\u001b[0;34m:\u001b[0m\u001b[0;34m\u001b[0m\u001b[0;34m\u001b[0m\u001b[0m\n\u001b[1;32m    778\u001b[0m             \u001b[0mjob_idx\u001b[0m \u001b[0;34m=\u001b[0m \u001b[0mlen\u001b[0m\u001b[0;34m(\u001b[0m\u001b[0mself\u001b[0m\u001b[0;34m.\u001b[0m\u001b[0m_jobs\u001b[0m\u001b[0;34m)\u001b[0m\u001b[0;34m\u001b[0m\u001b[0;34m\u001b[0m\u001b[0m\n\u001b[0;32m--> 779\u001b[0;31m             \u001b[0mjob\u001b[0m \u001b[0;34m=\u001b[0m \u001b[0mself\u001b[0m\u001b[0;34m.\u001b[0m\u001b[0m_backend\u001b[0m\u001b[0;34m.\u001b[0m\u001b[0mapply_async\u001b[0m\u001b[0;34m(\u001b[0m\u001b[0mbatch\u001b[0m\u001b[0;34m,\u001b[0m \u001b[0mcallback\u001b[0m\u001b[0;34m=\u001b[0m\u001b[0mcb\u001b[0m\u001b[0;34m)\u001b[0m\u001b[0;34m\u001b[0m\u001b[0;34m\u001b[0m\u001b[0m\n\u001b[0m\u001b[1;32m    780\u001b[0m             \u001b[0;31m# A job can complete so quickly than its callback is\u001b[0m\u001b[0;34m\u001b[0m\u001b[0;34m\u001b[0m\u001b[0;34m\u001b[0m\u001b[0m\n\u001b[1;32m    781\u001b[0m             \u001b[0;31m# called before we get here, causing self._jobs to\u001b[0m\u001b[0;34m\u001b[0m\u001b[0;34m\u001b[0m\u001b[0;34m\u001b[0m\u001b[0m\n",
            "\u001b[0;32m/usr/local/lib/python3.7/dist-packages/joblib/_parallel_backends.py\u001b[0m in \u001b[0;36mapply_async\u001b[0;34m(self, func, callback)\u001b[0m\n\u001b[1;32m    206\u001b[0m     \u001b[0;32mdef\u001b[0m \u001b[0mapply_async\u001b[0m\u001b[0;34m(\u001b[0m\u001b[0mself\u001b[0m\u001b[0;34m,\u001b[0m \u001b[0mfunc\u001b[0m\u001b[0;34m,\u001b[0m \u001b[0mcallback\u001b[0m\u001b[0;34m=\u001b[0m\u001b[0;32mNone\u001b[0m\u001b[0;34m)\u001b[0m\u001b[0;34m:\u001b[0m\u001b[0;34m\u001b[0m\u001b[0;34m\u001b[0m\u001b[0m\n\u001b[1;32m    207\u001b[0m         \u001b[0;34m\"\"\"Schedule a func to be run\"\"\"\u001b[0m\u001b[0;34m\u001b[0m\u001b[0;34m\u001b[0m\u001b[0m\n\u001b[0;32m--> 208\u001b[0;31m         \u001b[0mresult\u001b[0m \u001b[0;34m=\u001b[0m \u001b[0mImmediateResult\u001b[0m\u001b[0;34m(\u001b[0m\u001b[0mfunc\u001b[0m\u001b[0;34m)\u001b[0m\u001b[0;34m\u001b[0m\u001b[0;34m\u001b[0m\u001b[0m\n\u001b[0m\u001b[1;32m    209\u001b[0m         \u001b[0;32mif\u001b[0m \u001b[0mcallback\u001b[0m\u001b[0;34m:\u001b[0m\u001b[0;34m\u001b[0m\u001b[0;34m\u001b[0m\u001b[0m\n\u001b[1;32m    210\u001b[0m             \u001b[0mcallback\u001b[0m\u001b[0;34m(\u001b[0m\u001b[0mresult\u001b[0m\u001b[0;34m)\u001b[0m\u001b[0;34m\u001b[0m\u001b[0;34m\u001b[0m\u001b[0m\n",
            "\u001b[0;32m/usr/local/lib/python3.7/dist-packages/joblib/_parallel_backends.py\u001b[0m in \u001b[0;36m__init__\u001b[0;34m(self, batch)\u001b[0m\n\u001b[1;32m    570\u001b[0m         \u001b[0;31m# Don't delay the application, to avoid keeping the input\u001b[0m\u001b[0;34m\u001b[0m\u001b[0;34m\u001b[0m\u001b[0;34m\u001b[0m\u001b[0m\n\u001b[1;32m    571\u001b[0m         \u001b[0;31m# arguments in memory\u001b[0m\u001b[0;34m\u001b[0m\u001b[0;34m\u001b[0m\u001b[0;34m\u001b[0m\u001b[0m\n\u001b[0;32m--> 572\u001b[0;31m         \u001b[0mself\u001b[0m\u001b[0;34m.\u001b[0m\u001b[0mresults\u001b[0m \u001b[0;34m=\u001b[0m \u001b[0mbatch\u001b[0m\u001b[0;34m(\u001b[0m\u001b[0;34m)\u001b[0m\u001b[0;34m\u001b[0m\u001b[0;34m\u001b[0m\u001b[0m\n\u001b[0m\u001b[1;32m    573\u001b[0m \u001b[0;34m\u001b[0m\u001b[0m\n\u001b[1;32m    574\u001b[0m     \u001b[0;32mdef\u001b[0m \u001b[0mget\u001b[0m\u001b[0;34m(\u001b[0m\u001b[0mself\u001b[0m\u001b[0;34m)\u001b[0m\u001b[0;34m:\u001b[0m\u001b[0;34m\u001b[0m\u001b[0;34m\u001b[0m\u001b[0m\n",
            "\u001b[0;32m/usr/local/lib/python3.7/dist-packages/joblib/parallel.py\u001b[0m in \u001b[0;36m__call__\u001b[0;34m(self)\u001b[0m\n\u001b[1;32m    261\u001b[0m         \u001b[0;32mwith\u001b[0m \u001b[0mparallel_backend\u001b[0m\u001b[0;34m(\u001b[0m\u001b[0mself\u001b[0m\u001b[0;34m.\u001b[0m\u001b[0m_backend\u001b[0m\u001b[0;34m,\u001b[0m \u001b[0mn_jobs\u001b[0m\u001b[0;34m=\u001b[0m\u001b[0mself\u001b[0m\u001b[0;34m.\u001b[0m\u001b[0m_n_jobs\u001b[0m\u001b[0;34m)\u001b[0m\u001b[0;34m:\u001b[0m\u001b[0;34m\u001b[0m\u001b[0;34m\u001b[0m\u001b[0m\n\u001b[1;32m    262\u001b[0m             return [func(*args, **kwargs)\n\u001b[0;32m--> 263\u001b[0;31m                     for func, args, kwargs in self.items]\n\u001b[0m\u001b[1;32m    264\u001b[0m \u001b[0;34m\u001b[0m\u001b[0m\n\u001b[1;32m    265\u001b[0m     \u001b[0;32mdef\u001b[0m \u001b[0m__reduce__\u001b[0m\u001b[0;34m(\u001b[0m\u001b[0mself\u001b[0m\u001b[0;34m)\u001b[0m\u001b[0;34m:\u001b[0m\u001b[0;34m\u001b[0m\u001b[0;34m\u001b[0m\u001b[0m\n",
            "\u001b[0;32m/usr/local/lib/python3.7/dist-packages/joblib/parallel.py\u001b[0m in \u001b[0;36m<listcomp>\u001b[0;34m(.0)\u001b[0m\n\u001b[1;32m    261\u001b[0m         \u001b[0;32mwith\u001b[0m \u001b[0mparallel_backend\u001b[0m\u001b[0;34m(\u001b[0m\u001b[0mself\u001b[0m\u001b[0;34m.\u001b[0m\u001b[0m_backend\u001b[0m\u001b[0;34m,\u001b[0m \u001b[0mn_jobs\u001b[0m\u001b[0;34m=\u001b[0m\u001b[0mself\u001b[0m\u001b[0;34m.\u001b[0m\u001b[0m_n_jobs\u001b[0m\u001b[0;34m)\u001b[0m\u001b[0;34m:\u001b[0m\u001b[0;34m\u001b[0m\u001b[0;34m\u001b[0m\u001b[0m\n\u001b[1;32m    262\u001b[0m             return [func(*args, **kwargs)\n\u001b[0;32m--> 263\u001b[0;31m                     for func, args, kwargs in self.items]\n\u001b[0m\u001b[1;32m    264\u001b[0m \u001b[0;34m\u001b[0m\u001b[0m\n\u001b[1;32m    265\u001b[0m     \u001b[0;32mdef\u001b[0m \u001b[0m__reduce__\u001b[0m\u001b[0;34m(\u001b[0m\u001b[0mself\u001b[0m\u001b[0;34m)\u001b[0m\u001b[0;34m:\u001b[0m\u001b[0;34m\u001b[0m\u001b[0;34m\u001b[0m\u001b[0m\n",
            "\u001b[0;32m/usr/local/lib/python3.7/dist-packages/sklearn/utils/fixes.py\u001b[0m in \u001b[0;36m__call__\u001b[0;34m(self, *args, **kwargs)\u001b[0m\n\u001b[1;32m    214\u001b[0m     \u001b[0;32mdef\u001b[0m \u001b[0m__call__\u001b[0m\u001b[0;34m(\u001b[0m\u001b[0mself\u001b[0m\u001b[0;34m,\u001b[0m \u001b[0;34m*\u001b[0m\u001b[0margs\u001b[0m\u001b[0;34m,\u001b[0m \u001b[0;34m**\u001b[0m\u001b[0mkwargs\u001b[0m\u001b[0;34m)\u001b[0m\u001b[0;34m:\u001b[0m\u001b[0;34m\u001b[0m\u001b[0;34m\u001b[0m\u001b[0m\n\u001b[1;32m    215\u001b[0m         \u001b[0;32mwith\u001b[0m \u001b[0mconfig_context\u001b[0m\u001b[0;34m(\u001b[0m\u001b[0;34m**\u001b[0m\u001b[0mself\u001b[0m\u001b[0;34m.\u001b[0m\u001b[0mconfig\u001b[0m\u001b[0;34m)\u001b[0m\u001b[0;34m:\u001b[0m\u001b[0;34m\u001b[0m\u001b[0;34m\u001b[0m\u001b[0m\n\u001b[0;32m--> 216\u001b[0;31m             \u001b[0;32mreturn\u001b[0m \u001b[0mself\u001b[0m\u001b[0;34m.\u001b[0m\u001b[0mfunction\u001b[0m\u001b[0;34m(\u001b[0m\u001b[0;34m*\u001b[0m\u001b[0margs\u001b[0m\u001b[0;34m,\u001b[0m \u001b[0;34m**\u001b[0m\u001b[0mkwargs\u001b[0m\u001b[0;34m)\u001b[0m\u001b[0;34m\u001b[0m\u001b[0;34m\u001b[0m\u001b[0m\n\u001b[0m\u001b[1;32m    217\u001b[0m \u001b[0;34m\u001b[0m\u001b[0m\n\u001b[1;32m    218\u001b[0m \u001b[0;34m\u001b[0m\u001b[0m\n",
            "\u001b[0;32m/usr/local/lib/python3.7/dist-packages/sklearn/ensemble/_forest.py\u001b[0m in \u001b[0;36m_parallel_build_trees\u001b[0;34m(tree, forest, X, y, sample_weight, tree_idx, n_trees, verbose, class_weight, n_samples_bootstrap)\u001b[0m\n\u001b[1;32m    183\u001b[0m             \u001b[0mcurr_sample_weight\u001b[0m \u001b[0;34m*=\u001b[0m \u001b[0mcompute_sample_weight\u001b[0m\u001b[0;34m(\u001b[0m\u001b[0;34m\"balanced\"\u001b[0m\u001b[0;34m,\u001b[0m \u001b[0my\u001b[0m\u001b[0;34m,\u001b[0m \u001b[0mindices\u001b[0m\u001b[0;34m=\u001b[0m\u001b[0mindices\u001b[0m\u001b[0;34m)\u001b[0m\u001b[0;34m\u001b[0m\u001b[0;34m\u001b[0m\u001b[0m\n\u001b[1;32m    184\u001b[0m \u001b[0;34m\u001b[0m\u001b[0m\n\u001b[0;32m--> 185\u001b[0;31m         \u001b[0mtree\u001b[0m\u001b[0;34m.\u001b[0m\u001b[0mfit\u001b[0m\u001b[0;34m(\u001b[0m\u001b[0mX\u001b[0m\u001b[0;34m,\u001b[0m \u001b[0my\u001b[0m\u001b[0;34m,\u001b[0m \u001b[0msample_weight\u001b[0m\u001b[0;34m=\u001b[0m\u001b[0mcurr_sample_weight\u001b[0m\u001b[0;34m,\u001b[0m \u001b[0mcheck_input\u001b[0m\u001b[0;34m=\u001b[0m\u001b[0;32mFalse\u001b[0m\u001b[0;34m)\u001b[0m\u001b[0;34m\u001b[0m\u001b[0;34m\u001b[0m\u001b[0m\n\u001b[0m\u001b[1;32m    186\u001b[0m     \u001b[0;32melse\u001b[0m\u001b[0;34m:\u001b[0m\u001b[0;34m\u001b[0m\u001b[0;34m\u001b[0m\u001b[0m\n\u001b[1;32m    187\u001b[0m         \u001b[0mtree\u001b[0m\u001b[0;34m.\u001b[0m\u001b[0mfit\u001b[0m\u001b[0;34m(\u001b[0m\u001b[0mX\u001b[0m\u001b[0;34m,\u001b[0m \u001b[0my\u001b[0m\u001b[0;34m,\u001b[0m \u001b[0msample_weight\u001b[0m\u001b[0;34m=\u001b[0m\u001b[0msample_weight\u001b[0m\u001b[0;34m,\u001b[0m \u001b[0mcheck_input\u001b[0m\u001b[0;34m=\u001b[0m\u001b[0;32mFalse\u001b[0m\u001b[0;34m)\u001b[0m\u001b[0;34m\u001b[0m\u001b[0;34m\u001b[0m\u001b[0m\n",
            "\u001b[0;32m/usr/local/lib/python3.7/dist-packages/sklearn/tree/_classes.py\u001b[0m in \u001b[0;36mfit\u001b[0;34m(self, X, y, sample_weight, check_input, X_idx_sorted)\u001b[0m\n\u001b[1;32m   1318\u001b[0m             \u001b[0msample_weight\u001b[0m\u001b[0;34m=\u001b[0m\u001b[0msample_weight\u001b[0m\u001b[0;34m,\u001b[0m\u001b[0;34m\u001b[0m\u001b[0;34m\u001b[0m\u001b[0m\n\u001b[1;32m   1319\u001b[0m             \u001b[0mcheck_input\u001b[0m\u001b[0;34m=\u001b[0m\u001b[0mcheck_input\u001b[0m\u001b[0;34m,\u001b[0m\u001b[0;34m\u001b[0m\u001b[0;34m\u001b[0m\u001b[0m\n\u001b[0;32m-> 1320\u001b[0;31m             \u001b[0mX_idx_sorted\u001b[0m\u001b[0;34m=\u001b[0m\u001b[0mX_idx_sorted\u001b[0m\u001b[0;34m,\u001b[0m\u001b[0;34m\u001b[0m\u001b[0;34m\u001b[0m\u001b[0m\n\u001b[0m\u001b[1;32m   1321\u001b[0m         )\n\u001b[1;32m   1322\u001b[0m         \u001b[0;32mreturn\u001b[0m \u001b[0mself\u001b[0m\u001b[0;34m\u001b[0m\u001b[0;34m\u001b[0m\u001b[0m\n",
            "\u001b[0;32m/usr/local/lib/python3.7/dist-packages/sklearn/tree/_classes.py\u001b[0m in \u001b[0;36mfit\u001b[0;34m(self, X, y, sample_weight, check_input, X_idx_sorted)\u001b[0m\n\u001b[1;32m    418\u001b[0m             )\n\u001b[1;32m    419\u001b[0m \u001b[0;34m\u001b[0m\u001b[0m\n\u001b[0;32m--> 420\u001b[0;31m         \u001b[0mbuilder\u001b[0m\u001b[0;34m.\u001b[0m\u001b[0mbuild\u001b[0m\u001b[0;34m(\u001b[0m\u001b[0mself\u001b[0m\u001b[0;34m.\u001b[0m\u001b[0mtree_\u001b[0m\u001b[0;34m,\u001b[0m \u001b[0mX\u001b[0m\u001b[0;34m,\u001b[0m \u001b[0my\u001b[0m\u001b[0;34m,\u001b[0m \u001b[0msample_weight\u001b[0m\u001b[0;34m)\u001b[0m\u001b[0;34m\u001b[0m\u001b[0;34m\u001b[0m\u001b[0m\n\u001b[0m\u001b[1;32m    421\u001b[0m \u001b[0;34m\u001b[0m\u001b[0m\n\u001b[1;32m    422\u001b[0m         \u001b[0;32mif\u001b[0m \u001b[0mself\u001b[0m\u001b[0;34m.\u001b[0m\u001b[0mn_outputs_\u001b[0m \u001b[0;34m==\u001b[0m \u001b[0;36m1\u001b[0m \u001b[0;32mand\u001b[0m \u001b[0mis_classifier\u001b[0m\u001b[0;34m(\u001b[0m\u001b[0mself\u001b[0m\u001b[0;34m)\u001b[0m\u001b[0;34m:\u001b[0m\u001b[0;34m\u001b[0m\u001b[0;34m\u001b[0m\u001b[0m\n",
            "\u001b[0;31mKeyboardInterrupt\u001b[0m: "
          ]
        }
      ],
      "source": [
        "from sklearn.ensemble import RandomForestRegressor\n",
        "\n",
        "#model\n",
        "rf = RandomForestRegressor(n_estimators=20, random_state=1)\n",
        "\n",
        "# fit\n",
        "rf.fit(x_train_norm,y_train)\n",
        "\n",
        "# predict\n",
        "pred = rf.predict(x_test_norm)\n",
        "\n",
        "# RMSE\n",
        "print(\"RMSE: \" + str(np.sqrt(mean_squared_error(y_test,pred))))\n",
        "\n",
        "#MAE\n",
        "print(\"MAE: \" + str(mean_absolute_error(y_test, pred)))"
      ]
    },
    {
      "cell_type": "code",
      "execution_count": null,
      "metadata": {
        "id": "wNDoHW_87XWj"
      },
      "outputs": [],
      "source": [
        "#Finding pearson's correlation coefficient between\n",
        "#real value and predicted value\n",
        "\n",
        "y_test = np.array(y_test, dtype ='float32')\n",
        "pred = np.array(pred, dtype ='float32')\n",
        "new_y = y_test.reshape(522336, 1)\n",
        "new_y = np.squeeze(new_y)\n",
        "new_p = pred.reshape(522336, 1)\n",
        "new_p = np.squeeze(new_p)\n",
        "\n",
        "from scipy.stats import pearsonr\n",
        "corr, _ = pearsonr(new_p, new_y)\n",
        "print('Pearsons correlation: %.4f' % corr)"
      ]
    },
    {
      "cell_type": "markdown",
      "metadata": {
        "id": "y11SI05S7ZC8"
      },
      "source": [
        "#NN #1\n",
        "\n",
        "- 3 dense layers\n",
        "- 96 to 500 to 8 to 48\n",
        "- 10 epochs"
      ]
    },
    {
      "cell_type": "code",
      "execution_count": null,
      "metadata": {
        "id": "L1VEnzpj7jBh"
      },
      "outputs": [],
      "source": [
        "from keras.models import Sequential\n",
        "from keras.layers import Dense\n",
        "from keras import Input"
      ]
    },
    {
      "cell_type": "code",
      "execution_count": null,
      "metadata": {
        "id": "lvECFLae7uQM"
      },
      "outputs": [],
      "source": [
        "# define the keras model\n",
        "model1 = Sequential()\n",
        "model1.add(Dense(500, input_dim=96, activation='relu'))\n",
        "model1.add(Dense(8, activation='relu'))\n",
        "model1.add(Dense(48))\n",
        "model1.compile(loss='mse', optimizer='adam')\n",
        "# fit the keras model on the dataset\n",
        "model1.fit(x_train_norm, y_train, epochs=10)"
      ]
    },
    {
      "cell_type": "code",
      "execution_count": null,
      "metadata": {
        "id": "ezNPnbbFPMcH"
      },
      "outputs": [],
      "source": [
        "#Saving our model\n",
        "from keras.models import model_from_json\n",
        "model1_json = model1.to_json()\n",
        "with open(\"model1.json\", \"w\") as json_file:\n",
        "    json_file.write(model1_json)\n",
        "model1.save_weights(\"model1.h5\")\n",
        "print(\"Saved model to disk\")"
      ]
    },
    {
      "cell_type": "code",
      "execution_count": null,
      "metadata": {
        "id": "RQ3V2FjDPRUt"
      },
      "outputs": [],
      "source": [
        "#Loading our model\n",
        "json_file = open('model1.json', 'r')\n",
        "loaded_model1_json = json_file.read()\n",
        "json_file.close()\n",
        "loaded_model1 = model_from_json(loaded_model1_json)\n",
        "# load weights into new model\n",
        "loaded_model1.load_weights(\"model1.h5\")\n",
        "print(\"Loaded model from disk\")\n",
        "loaded_model1.compile(loss='mse', optimizer='adam')"
      ]
    },
    {
      "cell_type": "code",
      "execution_count": null,
      "metadata": {
        "id": "6-wTJTny7vZg"
      },
      "outputs": [],
      "source": [
        "pred = loaded_model1.predict(x_test_norm)\n",
        "print(np.sqrt(mean_squared_error(y_test,pred)))\n",
        "print(mean_absolute_error(y_test, pred))"
      ]
    },
    {
      "cell_type": "code",
      "execution_count": null,
      "metadata": {
        "id": "K7NkuIcf7wRK"
      },
      "outputs": [],
      "source": [
        "#Finding pearson's correlation coefficient between\n",
        "#real value and predicted value\n",
        "\n",
        "y_test = np.array(y_test, dtype ='float32')\n",
        "pred = np.array(pred, dtype ='float32')\n",
        "new_y = y_test.reshape(522336, 1)\n",
        "new_y = np.squeeze(new_y)\n",
        "new_p = pred.reshape(522336, 1)\n",
        "new_p = np.squeeze(new_p)\n",
        "\n",
        "from scipy.stats import pearsonr\n",
        "corr, _ = pearsonr(new_p, new_y)\n",
        "print('Pearsons correlation: %.4f' % corr)"
      ]
    },
    {
      "cell_type": "markdown",
      "metadata": {
        "id": "ykQVTSWL7xCN"
      },
      "source": [
        "#NN #2\n",
        "- 3 dense layers\n",
        "- 96 to 1000 to 8 to 48\n",
        "- 10 epochs"
      ]
    },
    {
      "cell_type": "code",
      "execution_count": null,
      "metadata": {
        "id": "SzsTjprv73V6"
      },
      "outputs": [],
      "source": [
        "# define the keras model\n",
        "model2 = Sequential()\n",
        "model2.add(Dense(1000, input_dim=96, activation='relu'))\n",
        "model2.add(Dense(8, activation='relu'))\n",
        "model2.add(Dense(48))\n",
        "model2.compile(loss='mse', optimizer='adam')\n",
        "# fit the keras model on the dataset\n",
        "model2.fit(x_train_norm, y_train, epochs=10)"
      ]
    },
    {
      "cell_type": "code",
      "execution_count": null,
      "metadata": {
        "id": "1mcL_gwgO8MD"
      },
      "outputs": [],
      "source": [
        "#Saving our model\n",
        "from keras.models import model_from_json\n",
        "model2_json = model2.to_json()\n",
        "with open(\"model2.json\", \"w\") as json_file:\n",
        "    json_file.write(model2_json)\n",
        "model2.save_weights(\"model2.h5\")\n",
        "print(\"Saved model to disk\")"
      ]
    },
    {
      "cell_type": "code",
      "execution_count": null,
      "metadata": {
        "id": "bRDTdbRrPAgy"
      },
      "outputs": [],
      "source": [
        "#Loading our model\n",
        "json_file = open('model2.json', 'r')\n",
        "loaded_model2_json = json_file.read()\n",
        "json_file.close()\n",
        "loaded_model2 = model_from_json(loaded_model2_json)\n",
        "# load weights into new model\n",
        "loaded_model2.load_weights(\"model2.h5\")\n",
        "print(\"Loaded model from disk\")\n",
        "loaded_model2.compile(loss='mse', optimizer='adam')"
      ]
    },
    {
      "cell_type": "code",
      "execution_count": null,
      "metadata": {
        "id": "_Ifw7tW_74aw"
      },
      "outputs": [],
      "source": [
        "pred = loaded_model2.predict(x_test_norm)\n",
        "print(np.sqrt(mean_squared_error(y_test,pred)))\n",
        "print(mean_absolute_error(y_test, pred))"
      ]
    },
    {
      "cell_type": "code",
      "execution_count": null,
      "metadata": {
        "id": "CHdxa2_T76Hr"
      },
      "outputs": [],
      "source": [
        "#Finding pearson's correlation coefficient between\n",
        "#real value and predicted value\n",
        "\n",
        "y_test = np.array(y_test, dtype ='float32')\n",
        "pred = np.array(pred, dtype ='float32')\n",
        "new_y = y_test.reshape(522336, 1)\n",
        "new_y = np.squeeze(new_y)\n",
        "new_p = pred.reshape(522336, 1)\n",
        "new_p = np.squeeze(new_p)\n",
        "\n",
        "from scipy.stats import pearsonr\n",
        "corr, _ = pearsonr(new_p, new_y)\n",
        "print('Pearsons correlation: %.4f' % corr)"
      ]
    },
    {
      "cell_type": "markdown",
      "metadata": {
        "id": "prc4wH7d77LI"
      },
      "source": [
        "#NN #3\n",
        "- 3 dense layers\n",
        "- 96 to 1000 to 8 to 48\n",
        "- 15 epochs"
      ]
    },
    {
      "cell_type": "code",
      "execution_count": null,
      "metadata": {
        "id": "buKn_7wB78vL"
      },
      "outputs": [],
      "source": [
        "# define the keras model\n",
        "model3 = Sequential()\n",
        "model3.add(Dense(1000, input_dim=96, activation='relu'))\n",
        "model3.add(Dense(8, activation='relu'))\n",
        "model3.add(Dense(48))\n",
        "model3.compile(loss='mse', optimizer='adam')\n",
        "# fit the keras model on the dataset\n",
        "model3.fit(x_train_norm, y_train, epochs=15)"
      ]
    },
    {
      "cell_type": "code",
      "execution_count": null,
      "metadata": {
        "id": "6IyrTcczOkOs"
      },
      "outputs": [],
      "source": [
        "#Saving our model\n",
        "from keras.models import model_from_json\n",
        "model3_json = model3.to_json()\n",
        "with open(\"model3.json\", \"w\") as json_file:\n",
        "    json_file.write(model3_json)\n",
        "model3.save_weights(\"model3.h5\")\n",
        "print(\"Saved model to disk\")"
      ]
    },
    {
      "cell_type": "code",
      "execution_count": null,
      "metadata": {
        "id": "OtMNSd_lOrMC"
      },
      "outputs": [],
      "source": [
        "#Loading our model\n",
        "json_file = open('model3.json', 'r')\n",
        "loaded_model3_json = json_file.read()\n",
        "json_file.close()\n",
        "loaded_model3 = model_from_json(loaded_model3_json)\n",
        "# load weights into new model\n",
        "loaded_model3.load_weights(\"model3.h5\")\n",
        "print(\"Loaded model from disk\")\n",
        "loaded_model3.compile(loss='mse', optimizer='adam')"
      ]
    },
    {
      "cell_type": "code",
      "execution_count": null,
      "metadata": {
        "id": "vb5-VKBr8CG4"
      },
      "outputs": [],
      "source": [
        "pred = loaded_model3.predict(x_test_norm)\n",
        "print(np.sqrt(mean_squared_error(y_test,pred)))\n",
        "print(mean_absolute_error(y_test, pred))"
      ]
    },
    {
      "cell_type": "code",
      "execution_count": null,
      "metadata": {
        "id": "LoMh18Ms8V7Y"
      },
      "outputs": [],
      "source": [
        "#Finding pearson's correlation coefficient between\n",
        "#real value and predicted value\n",
        "\n",
        "y_test = np.array(y_test, dtype ='float32')\n",
        "pred = np.array(pred, dtype ='float32')\n",
        "new_y = y_test.reshape(522336, 1)\n",
        "new_y = np.squeeze(new_y)\n",
        "new_p = pred.reshape(522336, 1)\n",
        "new_p = np.squeeze(new_p)\n",
        "\n",
        "from scipy.stats import pearsonr\n",
        "corr, _ = pearsonr(new_p, new_y)\n",
        "print('Pearsons correlation: %.4f' % corr)"
      ]
    },
    {
      "cell_type": "markdown",
      "metadata": {
        "id": "9mJHiUQR8W3Y"
      },
      "source": [
        "#NN #4\n",
        "- 2 dense layers\n",
        "- 96 to 100 to 48\n",
        "- 10 epochs"
      ]
    },
    {
      "cell_type": "code",
      "execution_count": null,
      "metadata": {
        "id": "91nxV1jh8auW"
      },
      "outputs": [],
      "source": [
        "model4 = Sequential()\n",
        "model4.add(Dense(100, activation='relu', input_dim=96))\n",
        "model4.add(Dense(48))\n",
        "model4.compile(optimizer='adam', loss='mse')\n",
        "model4.fit(x_train_norm, y_train, epochs=10)"
      ]
    },
    {
      "cell_type": "code",
      "execution_count": null,
      "metadata": {
        "id": "rV0zDmWaOTYp"
      },
      "outputs": [],
      "source": [
        "#Saving our model\n",
        "from keras.models import model_from_json\n",
        "model4_json = model4.to_json()\n",
        "with open(\"model4.json\", \"w\") as json_file:\n",
        "    json_file.write(model4_json)\n",
        "model4.save_weights(\"model4.h5\")\n",
        "print(\"Saved model to disk\")"
      ]
    },
    {
      "cell_type": "code",
      "execution_count": null,
      "metadata": {
        "id": "QIxTPNPuOaRE"
      },
      "outputs": [],
      "source": [
        "#Loading our model\n",
        "json_file = open('model4.json', 'r')\n",
        "loaded_model4_json = json_file.read()\n",
        "json_file.close()\n",
        "loaded_model4 = model_from_json(loaded_model4_json)\n",
        "# load weights into new model\n",
        "loaded_model4.load_weights(\"model4.h5\")\n",
        "print(\"Loaded model from disk\")\n",
        "loaded_model4.compile(loss='mse', optimizer='adam')"
      ]
    },
    {
      "cell_type": "code",
      "execution_count": null,
      "metadata": {
        "id": "i-os0cUQ8cS4"
      },
      "outputs": [],
      "source": [
        "pred = loaded_model4.predict(x_test_norm)\n",
        "print(np.sqrt(mean_squared_error(y_test,pred)))\n",
        "print(mean_absolute_error(y_test, pred))"
      ]
    },
    {
      "cell_type": "code",
      "execution_count": null,
      "metadata": {
        "id": "9ACcnUAL8dS7"
      },
      "outputs": [],
      "source": [
        "#Finding pearson's correlation coefficient between\n",
        "#real value and predicted value\n",
        "\n",
        "y_test = np.array(y_test, dtype ='float32')\n",
        "pred = np.array(pred, dtype ='float32')\n",
        "new_y = y_test.reshape(522336, 1)\n",
        "new_y = np.squeeze(new_y)\n",
        "new_p = pred.reshape(522336, 1)\n",
        "new_p = np.squeeze(new_p)\n",
        "\n",
        "from scipy.stats import pearsonr\n",
        "corr, _ = pearsonr(new_p, new_y)\n",
        "print('Pearsons correlation: %.4f' % corr)"
      ]
    },
    {
      "cell_type": "markdown",
      "metadata": {
        "id": "XEWbaKhs8dva"
      },
      "source": [
        "#NN #5\n",
        "- 3 dense layers\n",
        "- 96 to 1000 to 8 to 48\n",
        "- 20 epochs"
      ]
    },
    {
      "cell_type": "code",
      "execution_count": null,
      "metadata": {
        "id": "NYBbNTHd8isw"
      },
      "outputs": [],
      "source": [
        "# define the keras model\n",
        "model5 = Sequential()\n",
        "model5.add(Dense(1000, input_dim=96, activation='relu'))\n",
        "model5.add(Dense(8, activation='relu'))\n",
        "model5.add(Dense(48))\n",
        "model5.compile(loss='mse', optimizer='adam')\n",
        "# fit the keras model on the dataset\n",
        "model5.fit(x_train_norm, y_train, epochs=20)"
      ]
    },
    {
      "cell_type": "code",
      "execution_count": null,
      "metadata": {
        "id": "jWV2IrcaN-Za"
      },
      "outputs": [],
      "source": [
        "#Saving our model\n",
        "from keras.models import model_from_json\n",
        "model5_json = model5.to_json()\n",
        "with open(\"model5.json\", \"w\") as json_file:\n",
        "    json_file.write(model5_json)\n",
        "model5.save_weights(\"model5.h5\")\n",
        "print(\"Saved model to disk\")"
      ]
    },
    {
      "cell_type": "code",
      "execution_count": null,
      "metadata": {
        "id": "PJA0LIaFOHcp"
      },
      "outputs": [],
      "source": [
        "#Loading our model\n",
        "json_file = open('model5.json', 'r')\n",
        "loaded_model5_json = json_file.read()\n",
        "json_file.close()\n",
        "loaded_model5 = model_from_json(loaded_model5_json)\n",
        "# load weights into new model\n",
        "loaded_model5.load_weights(\"model5.h5\")\n",
        "print(\"Loaded model from disk\")\n",
        "loaded_model5.compile(loss='mse', optimizer='adam')"
      ]
    },
    {
      "cell_type": "code",
      "execution_count": null,
      "metadata": {
        "id": "kaOGjrQk8j0K"
      },
      "outputs": [],
      "source": [
        "pred = loaded_model5.predict(x_test_norm)\n",
        "print(np.sqrt(mean_squared_error(y_test,pred)))\n",
        "print(mean_absolute_error(y_test, pred))"
      ]
    },
    {
      "cell_type": "code",
      "execution_count": null,
      "metadata": {
        "id": "FigKOOMo8koI"
      },
      "outputs": [],
      "source": [
        "#Finding pearson's correlation coefficient between\n",
        "#real value and predicted value\n",
        "\n",
        "y_test = np.array(y_test, dtype ='float32')\n",
        "pred = np.array(pred, dtype ='float32')\n",
        "new_y = y_test.reshape(522336, 1)\n",
        "new_y = np.squeeze(new_y)\n",
        "new_p = pred.reshape(522336, 1)\n",
        "new_p = np.squeeze(new_p)\n",
        "\n",
        "from scipy.stats import pearsonr\n",
        "corr, _ = pearsonr(new_p, new_y)\n",
        "print('Pearsons correlation: %.4f' % corr)"
      ]
    },
    {
      "cell_type": "markdown",
      "metadata": {
        "id": "QM7JBBAx9Ppv"
      },
      "source": [
        "#NN #6\n",
        "- 3 dense layers\n",
        "- 96 to 100 to 100 to 48\n",
        "- 30 epochs"
      ]
    },
    {
      "cell_type": "code",
      "execution_count": null,
      "metadata": {
        "colab": {
          "base_uri": "https://localhost:8080/"
        },
        "id": "mmQCZgG99WQz",
        "outputId": "34940bea-84a4-48ed-a3c5-d2589233f2c0"
      },
      "outputs": [
        {
          "output_type": "stream",
          "name": "stdout",
          "text": [
            "Epoch 1/30\n",
            "3061/3061 [==============================] - 15s 5ms/step - loss: 0.0144\n",
            "Epoch 2/30\n",
            "3061/3061 [==============================] - 17s 6ms/step - loss: 0.0134\n",
            "Epoch 3/30\n",
            "3061/3061 [==============================] - 15s 5ms/step - loss: 0.0131\n",
            "Epoch 4/30\n",
            "3061/3061 [==============================] - 15s 5ms/step - loss: 0.0129\n",
            "Epoch 5/30\n",
            "3061/3061 [==============================] - 20s 7ms/step - loss: 0.0128\n",
            "Epoch 6/30\n",
            "3061/3061 [==============================] - 17s 5ms/step - loss: 0.0117\n",
            "Epoch 7/30\n",
            "3061/3061 [==============================] - 12s 4ms/step - loss: 0.0108\n",
            "Epoch 8/30\n",
            "3061/3061 [==============================] - 14s 5ms/step - loss: 0.0107\n",
            "Epoch 9/30\n",
            "3061/3061 [==============================] - 12s 4ms/step - loss: 0.0106\n",
            "Epoch 10/30\n",
            "3061/3061 [==============================] - 7s 2ms/step - loss: 0.0105\n",
            "Epoch 11/30\n",
            "3061/3061 [==============================] - 7s 2ms/step - loss: 0.0104\n",
            "Epoch 12/30\n",
            "3061/3061 [==============================] - 9s 3ms/step - loss: 0.0103\n",
            "Epoch 13/30\n",
            "3061/3061 [==============================] - 7s 2ms/step - loss: 0.0102\n",
            "Epoch 14/30\n",
            "3061/3061 [==============================] - 10s 3ms/step - loss: 0.0102\n",
            "Epoch 15/30\n",
            "3061/3061 [==============================] - 7s 2ms/step - loss: 0.0101\n",
            "Epoch 16/30\n",
            "3061/3061 [==============================] - 7s 2ms/step - loss: 0.0101\n",
            "Epoch 17/30\n",
            "3061/3061 [==============================] - 9s 3ms/step - loss: 0.0100\n",
            "Epoch 18/30\n",
            "3061/3061 [==============================] - 7s 2ms/step - loss: 0.0083\n",
            "Epoch 19/30\n",
            "3061/3061 [==============================] - 8s 2ms/step - loss: 0.0074\n",
            "Epoch 20/30\n",
            "3061/3061 [==============================] - 7s 2ms/step - loss: 0.0073\n",
            "Epoch 21/30\n",
            "3061/3061 [==============================] - 7s 2ms/step - loss: 0.0072\n",
            "Epoch 22/30\n",
            "3061/3061 [==============================] - 8s 3ms/step - loss: 0.0072\n",
            "Epoch 23/30\n",
            "3061/3061 [==============================] - 7s 2ms/step - loss: 0.0071\n",
            "Epoch 24/30\n",
            "3061/3061 [==============================] - 7s 2ms/step - loss: 0.0071\n",
            "Epoch 25/30\n",
            "3061/3061 [==============================] - 7s 2ms/step - loss: 0.0070\n",
            "Epoch 26/30\n",
            "3061/3061 [==============================] - 8s 2ms/step - loss: 0.0070\n",
            "Epoch 27/30\n",
            "3061/3061 [==============================] - 7s 2ms/step - loss: 0.0070\n",
            "Epoch 28/30\n",
            "3061/3061 [==============================] - 7s 2ms/step - loss: 0.0069\n",
            "Epoch 29/30\n",
            "3061/3061 [==============================] - 7s 2ms/step - loss: 0.0069\n",
            "Epoch 30/30\n",
            "3061/3061 [==============================] - 8s 3ms/step - loss: 0.0069\n"
          ]
        },
        {
          "output_type": "execute_result",
          "data": {
            "text/plain": [
              "<keras.callbacks.History at 0x7ff580a2e090>"
            ]
          },
          "metadata": {},
          "execution_count": 19
        }
      ],
      "source": [
        "model6 = Sequential()\n",
        "model6.add(Input(shape=(96,)))\n",
        "model6.add(Dense(100, activation = 'relu'))\n",
        "model6.add(Dense(100, activation = 'relu'))\n",
        "model6.add(Dense(48, activation = 'relu'))\n",
        "model6.compile(loss='mse', optimizer='adam')\n",
        "model6.fit(x_train_norm, y_train, epochs=30)"
      ]
    },
    {
      "cell_type": "code",
      "execution_count": null,
      "metadata": {
        "colab": {
          "base_uri": "https://localhost:8080/"
        },
        "id": "9PyUQ7gUL4my",
        "outputId": "2890cbbb-7ae0-4fea-ac8e-72a4fa0f4a7c"
      },
      "outputs": [
        {
          "output_type": "stream",
          "name": "stdout",
          "text": [
            "Saved model to disk\n"
          ]
        }
      ],
      "source": [
        "#Saving our model\n",
        "from keras.models import model_from_json\n",
        "model6_json = model6.to_json()\n",
        "with open(\"model6.json\", \"w\") as json_file:\n",
        "    json_file.write(model6_json)\n",
        "model6.save_weights(\"model6.h5\")\n",
        "print(\"Saved model to disk\")"
      ]
    },
    {
      "cell_type": "code",
      "execution_count": null,
      "metadata": {
        "colab": {
          "base_uri": "https://localhost:8080/"
        },
        "id": "oJ5HdfzBMbRl",
        "outputId": "00c57a05-c9c4-4191-e5aa-18894385f1e6"
      },
      "outputs": [
        {
          "output_type": "stream",
          "name": "stdout",
          "text": [
            "Loaded model from disk\n"
          ]
        }
      ],
      "source": [
        "#Loading our model\n",
        "json_file = open('model6.json', 'r')\n",
        "loaded_model6_json = json_file.read()\n",
        "json_file.close()\n",
        "loaded_model6 = model_from_json(loaded_model6_json)\n",
        "# load weights into new model\n",
        "loaded_model6.load_weights(\"model6.h5\")\n",
        "print(\"Loaded model from disk\")\n",
        "loaded_model6.compile(loss='mse', optimizer='adam')"
      ]
    },
    {
      "cell_type": "code",
      "execution_count": null,
      "metadata": {
        "colab": {
          "base_uri": "https://localhost:8080/"
        },
        "id": "QPSsVTET9Z41",
        "outputId": "de4166a6-0bd1-4d1a-e100-4e28c6cbeeda"
      },
      "outputs": [
        {
          "output_type": "stream",
          "name": "stdout",
          "text": [
            "0.08813853\n",
            "0.03474128\n"
          ]
        }
      ],
      "source": [
        "import numpy as np\n",
        "from sklearn.metrics import mean_squared_error\n",
        "from sklearn.metrics import mean_absolute_error\n",
        "\n",
        "pred = loaded_model6.predict(x_test_norm)\n",
        "print(np.sqrt(mean_squared_error(y_test,pred)))\n",
        "print(mean_absolute_error(y_test, pred))"
      ]
    },
    {
      "cell_type": "code",
      "execution_count": null,
      "metadata": {
        "colab": {
          "base_uri": "https://localhost:8080/"
        },
        "id": "L56I5ini9cQa",
        "outputId": "cac52224-9959-421e-dfa4-3e886b087309"
      },
      "outputs": [
        {
          "output_type": "stream",
          "name": "stdout",
          "text": [
            "Pearsons correlation: 0.9400\n"
          ]
        }
      ],
      "source": [
        "#Finding pearson's correlation coefficient between\n",
        "#real value and predicted value\n",
        "\n",
        "y_test = np.array(y_test, dtype ='float32')\n",
        "pred = np.array(pred, dtype ='float32')\n",
        "new_y = y_test.reshape(522336, 1)\n",
        "new_y = np.squeeze(new_y)\n",
        "new_p = pred.reshape(522336, 1)\n",
        "new_p = np.squeeze(new_p)\n",
        "\n",
        "from scipy.stats import pearsonr\n",
        "corr, _ = pearsonr(new_p, new_y)\n",
        "print('Pearsons correlation: %.4f' % corr)"
      ]
    },
    {
      "cell_type": "markdown",
      "metadata": {
        "id": "cy0sGk2QHGC-"
      },
      "source": [
        "##Graphing predicted vs actual for 5 days"
      ]
    },
    {
      "cell_type": "code",
      "execution_count": null,
      "metadata": {
        "id": "6iiHBUwEHJtw"
      },
      "outputs": [],
      "source": [
        "pred5 = pred[150:155]"
      ]
    },
    {
      "cell_type": "code",
      "execution_count": null,
      "metadata": {
        "id": "BMCDjowXHjdS"
      },
      "outputs": [],
      "source": [
        "actual5 = y_test[150:155]"
      ]
    },
    {
      "cell_type": "code",
      "source": [
        "pred5 = pred5.reshape(240)"
      ],
      "metadata": {
        "id": "MOnOShn1wfak"
      },
      "execution_count": null,
      "outputs": []
    },
    {
      "cell_type": "code",
      "source": [
        "actual5 = actual5.reshape(240)"
      ],
      "metadata": {
        "id": "a8nEfvqfwpRb"
      },
      "execution_count": null,
      "outputs": []
    },
    {
      "cell_type": "code",
      "execution_count": null,
      "metadata": {
        "colab": {
          "base_uri": "https://localhost:8080/",
          "height": 350
        },
        "id": "B-jF8F2RHqoT",
        "outputId": "fc4dc1d6-576d-493f-aee2-558143714b8c"
      },
      "outputs": [
        {
          "output_type": "display_data",
          "data": {
            "text/plain": [
              "<Figure size 432x360 with 1 Axes>"
            ],
            "image/png": "[encoded data removed]"
          },
          "metadata": {
            "needs_background": "light"
          }
        }
      ],
      "source": [
        "import matplotlib.pyplot as plt\n",
        "import numpy as np\n",
        "import math\n",
        "\n",
        "fig = plt.figure()\n",
        "fig.set_figheight(5)\n",
        "fig.set_figwidth(6)\n",
        "\n",
        "plt.ylim(0, 0.5)\n",
        "\n",
        "# Using Numpy to create an array X\n",
        "x_axis = np.linspace(0, 5, num=240)\n",
        "\n",
        "# Plotting both the curves simultaneously\n",
        "plt.plot(x_axis, pred5, color='b', label='Predicted Power Output')\n",
        "plt.plot(x_axis, actual5, color='r', label='Actual Power Output')\n",
        "\n",
        "# Naming the x-axis, y-axis and the whole graph\n",
        "plt.xlabel(\"First 5 Days of the Year\")\n",
        "plt.ylabel(\"Power Output ( kWh )\")\n",
        "plt.title(\"Predicted vs Actual Power Output for First 5 Days of the Year\")\n",
        "\n",
        "# Adding legend, which helps us recognize the curve according to it's color\n",
        "plt.legend(loc='upper right')\n",
        "\n",
        "# To load the display window\n",
        "plt.show()"
      ]
    },
    {
      "cell_type": "markdown",
      "metadata": {
        "id": "NtS2eLvK9edt"
      },
      "source": [
        "#NN #7\n",
        "- 3 dense layers\n",
        "- 96 to 1000 to 8 to 48\n",
        "- 30 epochs"
      ]
    },
    {
      "cell_type": "code",
      "execution_count": null,
      "metadata": {
        "id": "ZWEAzFFh9iBP"
      },
      "outputs": [],
      "source": [
        "# define the keras model\n",
        "model7 = Sequential()\n",
        "model7.add(Dense(1000, input_dim=96, activation='relu'))\n",
        "model7.add(Dense(8, activation='relu'))\n",
        "model7.add(Dense(48))\n",
        "model7.compile(loss='mse', optimizer='adam')\n",
        "# fit the keras model on the dataset\n",
        "model7.fit(x_train_norm, y_train, epochs=30)"
      ]
    },
    {
      "cell_type": "code",
      "execution_count": null,
      "metadata": {
        "id": "8oC07prhNodM"
      },
      "outputs": [],
      "source": [
        "#Saving our model\n",
        "from keras.models import model_from_json\n",
        "model7_json = model7.to_json()\n",
        "with open(\"model7.json\", \"w\") as json_file:\n",
        "    json_file.write(model7_json)\n",
        "model7.save_weights(\"model7.h5\")\n",
        "print(\"Saved model to disk\")"
      ]
    },
    {
      "cell_type": "code",
      "execution_count": null,
      "metadata": {
        "id": "-9ZjcDwFNyHW"
      },
      "outputs": [],
      "source": [
        "#Loading our model\n",
        "json_file = open('model7.json', 'r')\n",
        "loaded_model7_json = json_file.read()\n",
        "json_file.close()\n",
        "loaded_model7 = model_from_json(loaded_model7_json)\n",
        "# load weights into new model\n",
        "loaded_model7.load_weights(\"model7.h5\")\n",
        "print(\"Loaded model from disk\")\n",
        "loaded_model7.compile(loss='mse', optimizer='adam')"
      ]
    },
    {
      "cell_type": "code",
      "execution_count": null,
      "metadata": {
        "id": "UtnHGEX29kG2"
      },
      "outputs": [],
      "source": [
        "pred = loaded_model7.predict(x_test_norm)\n",
        "print(np.sqrt(mean_squared_error(y_test,pred)))\n",
        "print(mean_absolute_error(y_test, pred))"
      ]
    },
    {
      "cell_type": "code",
      "execution_count": null,
      "metadata": {
        "id": "Zi9coo6i9lC6"
      },
      "outputs": [],
      "source": [
        "#Finding pearson's correlation coefficient between\n",
        "#real value and predicted value\n",
        "\n",
        "y_test = np.array(y_test, dtype ='float32')\n",
        "pred = np.array(pred, dtype ='float32')\n",
        "new_y = y_test.reshape(522336, 1)\n",
        "new_y = np.squeeze(new_y)\n",
        "new_p = pred.reshape(522336, 1)\n",
        "new_p = np.squeeze(new_p)\n",
        "\n",
        "from scipy.stats import pearsonr\n",
        "corr, _ = pearsonr(new_p, new_y)\n",
        "print('Pearsons correlation: %.4f' % corr)"
      ]
    }
  ],
  "metadata": {
    "colab": {
      "provenance": [],
      "authorship_tag": "ABX9TyPvlpsfyHBGdEGMMLVFer9e",
      "include_colab_link": true
    },
    "kernelspec": {
      "display_name": "Python 3",
      "name": "python3"
    },
    "language_info": {
      "name": "python"
    }
  },
  "nbformat": 4,
  "nbformat_minor": 0
}