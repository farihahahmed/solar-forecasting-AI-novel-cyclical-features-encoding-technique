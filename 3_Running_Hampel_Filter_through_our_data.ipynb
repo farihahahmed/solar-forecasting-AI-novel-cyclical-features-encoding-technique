{
  "cells": [
    {
      "cell_type": "markdown",
      "metadata": {
        "id": "view-in-github",
        "colab_type": "text"
      },
      "source": [
        "<a href=\"https://colab.research.google.com/github/farihahahmed/solar-forecasting-AI-novel-cyclical-features-encoding-technique/blob/main/3_Running_Hampel_Filter_through_our_data.ipynb\" target=\"_parent\"><img src=\"https://colab.research.google.com/assets/colab-badge.svg\" alt=\"Open In Colab\"/></a>"
      ]
    },
    {
      "cell_type": "markdown",
      "metadata": {
        "id": "OWJCCXaubqzY"
      },
      "source": [
        "#1 - Loading data & checking for missing values"
      ]
    },
    {
      "cell_type": "code",
      "execution_count": null,
      "metadata": {
        "colab": {
          "base_uri": "https://localhost:8080/"
        },
        "id": "3dQggszgbswO",
        "outputId": "dff732c7-a04b-414a-dc13-0b7d3dc3155a"
      },
      "outputs": [
        {
          "name": "stdout",
          "output_type": "stream",
          "text": [
            "Drive already mounted at /content/drive; to attempt to forcibly remount, call drive.mount(\"/content/drive\", force_remount=True).\n"
          ]
        }
      ],
      "source": [
        "#Mounting Google Drive\n",
        "from google.colab import drive\n",
        "drive.mount('/content/drive')"
      ]
    },
    {
      "cell_type": "code",
      "execution_count": null,
      "metadata": {
        "id": "VSFDXrXIcAsI"
      },
      "outputs": [],
      "source": [
        "#Importing Our Data\n",
        "import pandas as pd\n",
        "\n",
        "input = pd.read_csv('/content/drive/MyDrive/Restarting Lumiere - Farihah and Mauricio/Notebooks and data/Dataset4.csv')\n",
        "output = pd.read_csv('/content/drive/MyDrive/Restarting Lumiere - Farihah and Mauricio/Notebooks and data/Dataset5.csv')"
      ]
    },
    {
      "cell_type": "code",
      "execution_count": null,
      "metadata": {
        "id": "MFNFVrzwcMfC"
      },
      "outputs": [],
      "source": [
        "#Dropping unnecessary columns\n",
        "\n",
        "input = input.drop([\"Unnamed: 0\"], axis=1)\n",
        "output = output.drop([\"Unnamed: 0\"], axis=1)"
      ]
    },
    {
      "cell_type": "code",
      "execution_count": null,
      "metadata": {
        "colab": {
          "base_uri": "https://localhost:8080/"
        },
        "id": "7QjLpAaAcbZ9",
        "outputId": "cd3e890c-be30-4321-a548-548bf1ee9a74"
      },
      "outputs": [
        {
          "name": "stdout",
          "output_type": "stream",
          "text": [
            "(108819, 98)\n",
            "(108819, 50)\n"
          ]
        }
      ],
      "source": [
        "#Finding shape of input and output dataframes\n",
        "\n",
        "print(input.shape)\n",
        "print(output.shape)"
      ]
    },
    {
      "cell_type": "code",
      "execution_count": null,
      "metadata": {
        "colab": {
          "base_uri": "https://localhost:8080/"
        },
        "id": "jRqUjiebco6z",
        "outputId": "ad168004-2634-4040-9ffd-5713e96f41be"
      },
      "outputs": [
        {
          "name": "stdout",
          "output_type": "stream",
          "text": [
            "<class 'pandas.core.frame.DataFrame'>\n",
            "RangeIndex: 108819 entries, 0 to 108818\n",
            "Data columns (total 98 columns):\n",
            " #   Column        Non-Null Count   Dtype  \n",
            "---  ------        --------------   -----  \n",
            " 0   customer_num  108819 non-null  int64  \n",
            " 1   date          108819 non-null  object \n",
            " 2   0:30-day1     108819 non-null  float64\n",
            " 3   1:00-day1     108819 non-null  float64\n",
            " 4   1:30-day1     108819 non-null  float64\n",
            " 5   2:00-day1     108819 non-null  float64\n",
            " 6   2:30-day1     108819 non-null  float64\n",
            " 7   3:00-day1     108819 non-null  float64\n",
            " 8   3:30-day1     108819 non-null  float64\n",
            " 9   4:00-day1     108819 non-null  float64\n",
            " 10  4:30-day1     108819 non-null  float64\n",
            " 11  5:00-day1     108819 non-null  float64\n",
            " 12  5:30-day1     108819 non-null  float64\n",
            " 13  6:00-day1     108819 non-null  float64\n",
            " 14  6:30-day1     108819 non-null  float64\n",
            " 15  7:00-day1     108819 non-null  float64\n",
            " 16  7:30-day1     108819 non-null  float64\n",
            " 17  8:00-day1     108819 non-null  float64\n",
            " 18  8:30-day1     108819 non-null  float64\n",
            " 19  9:00-day1     108819 non-null  float64\n",
            " 20  9:30-day1     108819 non-null  float64\n",
            " 21  10:00-day1    108819 non-null  float64\n",
            " 22  10:30-day1    108819 non-null  float64\n",
            " 23  11:00-day1    108819 non-null  float64\n",
            " 24  11:30-day1    108819 non-null  float64\n",
            " 25  12:00-day1    108819 non-null  float64\n",
            " 26  12:30-day1    108819 non-null  float64\n",
            " 27  13:00-day1    108819 non-null  float64\n",
            " 28  13:30-day1    108819 non-null  float64\n",
            " 29  14:00-day1    108819 non-null  float64\n",
            " 30  14:30-day1    108819 non-null  float64\n",
            " 31  15:00-day1    108819 non-null  float64\n",
            " 32  15:30-day1    108819 non-null  float64\n",
            " 33  16:00-day1    108819 non-null  float64\n",
            " 34  16:30-day1    108819 non-null  float64\n",
            " 35  17:00-day1    108819 non-null  float64\n",
            " 36  17:30-day1    108819 non-null  float64\n",
            " 37  18:00-day1    108819 non-null  float64\n",
            " 38  18:30-day1    108819 non-null  float64\n",
            " 39  19:00-day1    108819 non-null  float64\n",
            " 40  19:30-day1    108819 non-null  float64\n",
            " 41  20:00-day1    108819 non-null  float64\n",
            " 42  20:30-day1    108819 non-null  float64\n",
            " 43  21:00-day1    108819 non-null  float64\n",
            " 44  21:30-day1    108819 non-null  float64\n",
            " 45  22:00-day1    108819 non-null  float64\n",
            " 46  22:30-day1    108819 non-null  float64\n",
            " 47  23:00-day1    108819 non-null  float64\n",
            " 48  23:30-day1    108819 non-null  float64\n",
            " 49  0:00-day1     108819 non-null  float64\n",
            " 50  0:30-day2     108819 non-null  float64\n",
            " 51  1:00-day2     108819 non-null  float64\n",
            " 52  1:30-day2     108819 non-null  float64\n",
            " 53  2:00-day2     108819 non-null  float64\n",
            " 54  2:30-day2     108819 non-null  float64\n",
            " 55  3:00-day2     108819 non-null  float64\n",
            " 56  3:30-day2     108819 non-null  float64\n",
            " 57  4:00-day2     108819 non-null  float64\n",
            " 58  4:30-day2     108819 non-null  float64\n",
            " 59  5:00-day2     108819 non-null  float64\n",
            " 60  5:30-day2     108819 non-null  float64\n",
            " 61  6:00-day2     108819 non-null  float64\n",
            " 62  6:30-day2     108819 non-null  float64\n",
            " 63  7:00-day2     108819 non-null  float64\n",
            " 64  7:30-day2     108819 non-null  float64\n",
            " 65  8:00-day2     108819 non-null  float64\n",
            " 66  8:30-day2     108819 non-null  float64\n",
            " 67  9:00-day2     108819 non-null  float64\n",
            " 68  9:30-day2     108819 non-null  float64\n",
            " 69  10:00-day2    108819 non-null  float64\n",
            " 70  10:30-day2    108819 non-null  float64\n",
            " 71  11:00-day2    108819 non-null  float64\n",
            " 72  11:30-day2    108819 non-null  float64\n",
            " 73  12:00-day2    108819 non-null  float64\n",
            " 74  12:30-day2    108819 non-null  float64\n",
            " 75  13:00-day2    108819 non-null  float64\n",
            " 76  13:30-day2    108819 non-null  float64\n",
            " 77  14:00-day2    108819 non-null  float64\n",
            " 78  14:30-day2    108819 non-null  float64\n",
            " 79  15:00-day2    108819 non-null  float64\n",
            " 80  15:30-day2    108819 non-null  float64\n",
            " 81  16:00-day2    108819 non-null  float64\n",
            " 82  16:30-day2    108819 non-null  float64\n",
            " 83  17:00-day2    108819 non-null  float64\n",
            " 84  17:30-day2    108819 non-null  float64\n",
            " 85  18:00-day2    108819 non-null  float64\n",
            " 86  18:30-day2    108819 non-null  float64\n",
            " 87  19:00-day2    108819 non-null  float64\n",
            " 88  19:30-day2    108819 non-null  float64\n",
            " 89  20:00-day2    108819 non-null  float64\n",
            " 90  20:30-day2    108819 non-null  float64\n",
            " 91  21:00-day2    108819 non-null  float64\n",
            " 92  21:30-day2    108819 non-null  float64\n",
            " 93  22:00-day2    108819 non-null  float64\n",
            " 94  22:30-day2    108819 non-null  float64\n",
            " 95  23:00-day2    108819 non-null  float64\n",
            " 96  23:30-day2    108819 non-null  float64\n",
            " 97  0:00-day2     108819 non-null  float64\n",
            "dtypes: float64(96), int64(1), object(1)\n",
            "memory usage: 81.4+ MB\n"
          ]
        }
      ],
      "source": [
        "#Checking for missing values in input df\n",
        "input.info()"
      ]
    },
    {
      "cell_type": "code",
      "execution_count": null,
      "metadata": {
        "colab": {
          "base_uri": "https://localhost:8080/"
        },
        "id": "1kvonsj0c_4i",
        "outputId": "f2d5b7bf-9817-48d0-be7c-05f6d2b89c72"
      },
      "outputs": [
        {
          "name": "stdout",
          "output_type": "stream",
          "text": [
            "<class 'pandas.core.frame.DataFrame'>\n",
            "RangeIndex: 108819 entries, 0 to 108818\n",
            "Data columns (total 50 columns):\n",
            " #   Column        Non-Null Count   Dtype  \n",
            "---  ------        --------------   -----  \n",
            " 0   customer_num  108819 non-null  int64  \n",
            " 1   date          108819 non-null  object \n",
            " 2   0:30-day1     108819 non-null  float64\n",
            " 3   1:00-day1     108819 non-null  float64\n",
            " 4   1:30-day1     108819 non-null  float64\n",
            " 5   2:00-day1     108819 non-null  float64\n",
            " 6   2:30-day1     108819 non-null  float64\n",
            " 7   3:00-day1     108819 non-null  float64\n",
            " 8   3:30-day1     108819 non-null  float64\n",
            " 9   4:00-day1     108819 non-null  float64\n",
            " 10  4:30-day1     108819 non-null  float64\n",
            " 11  5:00-day1     108819 non-null  float64\n",
            " 12  5:30-day1     108819 non-null  float64\n",
            " 13  6:00-day1     108819 non-null  float64\n",
            " 14  6:30-day1     108819 non-null  float64\n",
            " 15  7:00-day1     108819 non-null  float64\n",
            " 16  7:30-day1     108819 non-null  float64\n",
            " 17  8:00-day1     108819 non-null  float64\n",
            " 18  8:30-day1     108819 non-null  float64\n",
            " 19  9:00-day1     108819 non-null  float64\n",
            " 20  9:30-day1     108819 non-null  float64\n",
            " 21  10:00-day1    108819 non-null  float64\n",
            " 22  10:30-day1    108819 non-null  float64\n",
            " 23  11:00-day1    108819 non-null  float64\n",
            " 24  11:30-day1    108819 non-null  float64\n",
            " 25  12:00-day1    108819 non-null  float64\n",
            " 26  12:30-day1    108819 non-null  float64\n",
            " 27  13:00-day1    108819 non-null  float64\n",
            " 28  13:30-day1    108819 non-null  float64\n",
            " 29  14:00-day1    108819 non-null  float64\n",
            " 30  14:30-day1    108819 non-null  float64\n",
            " 31  15:00-day1    108819 non-null  float64\n",
            " 32  15:30-day1    108819 non-null  float64\n",
            " 33  16:00-day1    108819 non-null  float64\n",
            " 34  16:30-day1    108819 non-null  float64\n",
            " 35  17:00-day1    108819 non-null  float64\n",
            " 36  17:30-day1    108819 non-null  float64\n",
            " 37  18:00-day1    108819 non-null  float64\n",
            " 38  18:30-day1    108819 non-null  float64\n",
            " 39  19:00-day1    108819 non-null  float64\n",
            " 40  19:30-day1    108819 non-null  float64\n",
            " 41  20:00-day1    108819 non-null  float64\n",
            " 42  20:30-day1    108819 non-null  float64\n",
            " 43  21:00-day1    108819 non-null  float64\n",
            " 44  21:30-day1    108819 non-null  float64\n",
            " 45  22:00-day1    108819 non-null  float64\n",
            " 46  22:30-day1    108819 non-null  float64\n",
            " 47  23:00-day1    108819 non-null  float64\n",
            " 48  23:30-day1    108819 non-null  float64\n",
            " 49  0:00-day1     108819 non-null  float64\n",
            "dtypes: float64(48), int64(1), object(1)\n",
            "memory usage: 41.5+ MB\n"
          ]
        }
      ],
      "source": [
        "#Checking for missing values in output df\n",
        "output.info()"
      ]
    },
    {
      "cell_type": "code",
      "execution_count": null,
      "metadata": {
        "id": "jlfImpSudH4I"
      },
      "outputs": [],
      "source": [
        "#Checked original df in other notebook (Dataset1.csv). No null values there either."
      ]
    },
    {
      "cell_type": "code",
      "execution_count": null,
      "metadata": {
        "id": "tnu5ixUadNXc"
      },
      "outputs": [],
      "source": [
        "#Making our input x and output y\n",
        "\n",
        "x = input\n",
        "y = output"
      ]
    },
    {
      "cell_type": "markdown",
      "metadata": {
        "id": "yiMVrzL8_pAv"
      },
      "source": [
        "#Applying Hampel Filter to X data"
      ]
    },
    {
      "cell_type": "code",
      "execution_count": null,
      "metadata": {
        "colab": {
          "base_uri": "https://localhost:8080/"
        },
        "id": "UyENXkC4WZNi",
        "outputId": "e014aca7-c58f-4dd1-97a5-4ffe97520279"
      },
      "outputs": [
        {
          "name": "stdout",
          "output_type": "stream",
          "text": [
            "Requirement already satisfied: hampel in /usr/local/lib/python3.7/dist-packages (0.0.5)\n",
            "Requirement already satisfied: pandas in /usr/local/lib/python3.7/dist-packages (from hampel) (1.1.5)\n",
            "Requirement already satisfied: numpy in /usr/local/lib/python3.7/dist-packages (from hampel) (1.19.5)\n",
            "Requirement already satisfied: pytz>=2017.2 in /usr/local/lib/python3.7/dist-packages (from pandas->hampel) (2018.9)\n",
            "Requirement already satisfied: python-dateutil>=2.7.3 in /usr/local/lib/python3.7/dist-packages (from pandas->hampel) (2.8.2)\n",
            "Requirement already satisfied: six>=1.5 in /usr/local/lib/python3.7/dist-packages (from python-dateutil>=2.7.3->pandas->hampel) (1.15.0)\n"
          ]
        }
      ],
      "source": [
        "pip install hampel"
      ]
    },
    {
      "cell_type": "code",
      "execution_count": null,
      "metadata": {
        "id": "FfaRNVSXffW9"
      },
      "outputs": [],
      "source": [
        "import pandas as pd\n",
        "from hampel import hampel\n",
        "\n",
        "before = pd.Series(x['0:30-day1'])\n",
        "after = hampel(before, window_size=5, n=3, imputation=True)\n",
        "x['0:30-day1'] = after"
      ]
    },
    {
      "cell_type": "code",
      "execution_count": null,
      "metadata": {
        "id": "M0hjLUlFgWzX"
      },
      "outputs": [],
      "source": [
        "before = pd.Series(x['1:00-day1'])\n",
        "after = hampel(before, window_size=5, n=3, imputation=True)\n",
        "x['1:00-day1'] = after"
      ]
    },
    {
      "cell_type": "code",
      "execution_count": null,
      "metadata": {
        "id": "WuYkAGATg9Jg"
      },
      "outputs": [],
      "source": [
        "before = pd.Series(x['1:30-day1'])\n",
        "after = hampel(before, window_size=5, n=3, imputation=True)\n",
        "x['1:30-day1'] = after"
      ]
    },
    {
      "cell_type": "code",
      "execution_count": null,
      "metadata": {
        "id": "WK1huljcg_de"
      },
      "outputs": [],
      "source": [
        "before = pd.Series(x['2:00-day1'])\n",
        "after = hampel(before, window_size=5, n=3, imputation=True)\n",
        "x['2:00-day1'] = after"
      ]
    },
    {
      "cell_type": "code",
      "execution_count": null,
      "metadata": {
        "id": "bMeksUAAhBTl"
      },
      "outputs": [],
      "source": [
        "before = pd.Series(x['2:30-day1'])\n",
        "after = hampel(before, window_size=5, n=3, imputation=True)\n",
        "x['2:30-day1'] = after"
      ]
    },
    {
      "cell_type": "code",
      "execution_count": null,
      "metadata": {
        "id": "gXZUG6J-hDT4"
      },
      "outputs": [],
      "source": [
        "before = pd.Series(x['3:00-day1'])\n",
        "after = hampel(before, window_size=5, n=3, imputation=True)\n",
        "x['3:00-day1'] = after"
      ]
    },
    {
      "cell_type": "code",
      "execution_count": null,
      "metadata": {
        "id": "vGUaN1rOhEf-"
      },
      "outputs": [],
      "source": [
        "before = pd.Series(x['3:30-day1'])\n",
        "after = hampel(before, window_size=5, n=3, imputation=True)\n",
        "x['3:30-day1'] = after"
      ]
    },
    {
      "cell_type": "code",
      "execution_count": null,
      "metadata": {
        "id": "RMCZzw7ihGEO"
      },
      "outputs": [],
      "source": [
        "before = pd.Series(x['4:00-day1'])\n",
        "after = hampel(before, window_size=5, n=3, imputation=True)\n",
        "x['4:00-day1'] = after"
      ]
    },
    {
      "cell_type": "code",
      "execution_count": null,
      "metadata": {
        "id": "ZkUNoNJThHhD"
      },
      "outputs": [],
      "source": [
        "before = pd.Series(x['4:30-day1'])\n",
        "after = hampel(before, window_size=5, n=3, imputation=True)\n",
        "x['4:30-day1'] = after"
      ]
    },
    {
      "cell_type": "code",
      "execution_count": null,
      "metadata": {
        "id": "JntHJd5ThJ-i"
      },
      "outputs": [],
      "source": [
        "before = pd.Series(x['5:00-day1'])\n",
        "after = hampel(before, window_size=5, n=3, imputation=True)\n",
        "x['5:00-day1'] = after"
      ]
    },
    {
      "cell_type": "code",
      "execution_count": null,
      "metadata": {
        "id": "tvj0VQiqhLo7"
      },
      "outputs": [],
      "source": [
        "before = pd.Series(x['5:30-day1'])\n",
        "after = hampel(before, window_size=5, n=3, imputation=True)\n",
        "x['5:30-day1'] = after"
      ]
    },
    {
      "cell_type": "code",
      "execution_count": null,
      "metadata": {
        "id": "CSS8jsRNhN6e"
      },
      "outputs": [],
      "source": [
        "before = pd.Series(x['6:00-day1'])\n",
        "after = hampel(before, window_size=5, n=3, imputation=True)\n",
        "x['6:00-day1'] = after"
      ]
    },
    {
      "cell_type": "code",
      "execution_count": null,
      "metadata": {
        "id": "Y15cJVaFhPpU"
      },
      "outputs": [],
      "source": [
        "before = pd.Series(x['6:30-day1'])\n",
        "after = hampel(before, window_size=5, n=3, imputation=True)\n",
        "x['6:30-day1'] = after"
      ]
    },
    {
      "cell_type": "code",
      "execution_count": null,
      "metadata": {
        "id": "CJQD-5lihZT_"
      },
      "outputs": [],
      "source": [
        "before = pd.Series(x['7:00-day1'])\n",
        "after = hampel(before, window_size=5, n=3, imputation=True)\n",
        "x['7:00-day1'] = after"
      ]
    },
    {
      "cell_type": "code",
      "execution_count": null,
      "metadata": {
        "id": "UEKPuoAVha5F"
      },
      "outputs": [],
      "source": [
        "before = pd.Series(x['7:30-day1'])\n",
        "after = hampel(before, window_size=5, n=3, imputation=True)\n",
        "x['7:30-day1'] = after"
      ]
    },
    {
      "cell_type": "code",
      "execution_count": null,
      "metadata": {
        "id": "RP8wmNzmhdQk"
      },
      "outputs": [],
      "source": [
        "before = pd.Series(x['8:00-day1'])\n",
        "after = hampel(before, window_size=5, n=3, imputation=True)\n",
        "x['8:00-day1'] = after"
      ]
    },
    {
      "cell_type": "code",
      "execution_count": null,
      "metadata": {
        "id": "2Gnu59MXhehL"
      },
      "outputs": [],
      "source": [
        "before = pd.Series(x['8:30-day1'])\n",
        "after = hampel(before, window_size=5, n=3, imputation=True)\n",
        "x['8:30-day1'] = after"
      ]
    },
    {
      "cell_type": "code",
      "execution_count": null,
      "metadata": {
        "id": "DvGMY8p9hgqG"
      },
      "outputs": [],
      "source": [
        "before = pd.Series(x['9:00-day1'])\n",
        "after = hampel(before, window_size=5, n=3, imputation=True)\n",
        "x['9:00-day1'] = after"
      ]
    },
    {
      "cell_type": "code",
      "execution_count": null,
      "metadata": {
        "id": "Au1zgBWGhiRG"
      },
      "outputs": [],
      "source": [
        "before = pd.Series(x['9:30-day1'])\n",
        "after = hampel(before, window_size=5, n=3, imputation=True)\n",
        "x['9:30-day1'] = after"
      ]
    },
    {
      "cell_type": "code",
      "execution_count": null,
      "metadata": {
        "id": "JpISEffPhlJT"
      },
      "outputs": [],
      "source": [
        "before = pd.Series(x['10:00-day1'])\n",
        "after = hampel(before, window_size=5, n=3, imputation=True)\n",
        "x['10:00-day1'] = after"
      ]
    },
    {
      "cell_type": "code",
      "execution_count": null,
      "metadata": {
        "id": "LyxAfy9BhnOg"
      },
      "outputs": [],
      "source": [
        "before = pd.Series(x['10:30-day1'])\n",
        "after = hampel(before, window_size=5, n=3, imputation=True)\n",
        "x['10:30-day1'] = after"
      ]
    },
    {
      "cell_type": "code",
      "execution_count": null,
      "metadata": {
        "id": "KtTrJH3shp6b"
      },
      "outputs": [],
      "source": [
        "before = pd.Series(x['11:00-day1'])\n",
        "after = hampel(before, window_size=5, n=3, imputation=True)\n",
        "x['11:00-day1'] = after"
      ]
    },
    {
      "cell_type": "code",
      "execution_count": null,
      "metadata": {
        "id": "8WqLH76Vhqy_"
      },
      "outputs": [],
      "source": [
        "before = pd.Series(x['11:30-day1'])\n",
        "after = hampel(before, window_size=5, n=3, imputation=True)\n",
        "x['11:30-day1'] = after"
      ]
    },
    {
      "cell_type": "code",
      "execution_count": null,
      "metadata": {
        "id": "HlMm0Um6hwRm"
      },
      "outputs": [],
      "source": [
        "before = pd.Series(x['12:00-day1'])\n",
        "after = hampel(before, window_size=5, n=3, imputation=True)\n",
        "x['12:00-day1'] = after"
      ]
    },
    {
      "cell_type": "code",
      "execution_count": null,
      "metadata": {
        "id": "DZ3w2-2_hxR4"
      },
      "outputs": [],
      "source": [
        "before = pd.Series(x['12:30-day1'])\n",
        "after = hampel(before, window_size=5, n=3, imputation=True)\n",
        "x['12:30-day1'] = after"
      ]
    },
    {
      "cell_type": "code",
      "execution_count": null,
      "metadata": {
        "id": "BoZNtmO3hzq6"
      },
      "outputs": [],
      "source": [
        "before = pd.Series(x['13:00-day1'])\n",
        "after = hampel(before, window_size=5, n=3, imputation=True)\n",
        "x['13:00-day1'] = after"
      ]
    },
    {
      "cell_type": "code",
      "execution_count": null,
      "metadata": {
        "id": "uPW1Rauyh2--"
      },
      "outputs": [],
      "source": [
        "before = pd.Series(x['13:30-day1'])\n",
        "after = hampel(before, window_size=5, n=3, imputation=True)\n",
        "x['13:30-day1'] = after"
      ]
    },
    {
      "cell_type": "code",
      "execution_count": null,
      "metadata": {
        "id": "50tlAezKh4LS"
      },
      "outputs": [],
      "source": [
        "before = pd.Series(x['14:00-day1'])\n",
        "after = hampel(before, window_size=5, n=3, imputation=True)\n",
        "x['14:00-day1'] = after"
      ]
    },
    {
      "cell_type": "code",
      "execution_count": null,
      "metadata": {
        "id": "DV9a4rhXh7sd"
      },
      "outputs": [],
      "source": [
        "before = pd.Series(x['14:30-day1'])\n",
        "after = hampel(before, window_size=5, n=3, imputation=True)\n",
        "x['14:30-day1'] = after"
      ]
    },
    {
      "cell_type": "code",
      "execution_count": null,
      "metadata": {
        "id": "EvCKQqWdh9WL"
      },
      "outputs": [],
      "source": [
        "before = pd.Series(x['15:00-day1'])\n",
        "after = hampel(before, window_size=5, n=3, imputation=True)\n",
        "x['15:00-day1'] = after"
      ]
    },
    {
      "cell_type": "code",
      "execution_count": null,
      "metadata": {
        "id": "-bqp7oOOh_Z_"
      },
      "outputs": [],
      "source": [
        "before = pd.Series(x['15:30-day1'])\n",
        "after = hampel(before, window_size=5, n=3, imputation=True)\n",
        "x['15:30-day1'] = after"
      ]
    },
    {
      "cell_type": "code",
      "execution_count": null,
      "metadata": {
        "id": "pbL3I2KoiBNH"
      },
      "outputs": [],
      "source": [
        "before = pd.Series(x['16:00-day1'])\n",
        "after = hampel(before, window_size=5, n=3, imputation=True)\n",
        "x['16:00-day1'] = after"
      ]
    },
    {
      "cell_type": "code",
      "execution_count": null,
      "metadata": {
        "id": "mptGIow4iDG3"
      },
      "outputs": [],
      "source": [
        "before = pd.Series(x['16:30-day1'])\n",
        "after = hampel(before, window_size=5, n=3, imputation=True)\n",
        "x['16:30-day1'] = after"
      ]
    },
    {
      "cell_type": "code",
      "execution_count": null,
      "metadata": {
        "id": "WgfBQlakiFCU"
      },
      "outputs": [],
      "source": [
        "before = pd.Series(x['17:00-day1'])\n",
        "after = hampel(before, window_size=5, n=3, imputation=True)\n",
        "x['17:00-day1'] = after"
      ]
    },
    {
      "cell_type": "code",
      "execution_count": null,
      "metadata": {
        "id": "wjpuKQj6iG54"
      },
      "outputs": [],
      "source": [
        "before = pd.Series(x['17:30-day1'])\n",
        "after = hampel(before, window_size=5, n=3, imputation=True)\n",
        "x['17:30-day1'] = after"
      ]
    },
    {
      "cell_type": "code",
      "execution_count": null,
      "metadata": {
        "id": "tYUksq6biIpG"
      },
      "outputs": [],
      "source": [
        "before = pd.Series(x['18:00-day1'])\n",
        "after = hampel(before, window_size=5, n=3, imputation=True)\n",
        "x['18:00-day1'] = after"
      ]
    },
    {
      "cell_type": "code",
      "execution_count": null,
      "metadata": {
        "id": "xIuZzorKiKXx"
      },
      "outputs": [],
      "source": [
        "before = pd.Series(x['18:30-day1'])\n",
        "after = hampel(before, window_size=5, n=3, imputation=True)\n",
        "x['18:30-day1'] = after"
      ]
    },
    {
      "cell_type": "code",
      "execution_count": null,
      "metadata": {
        "id": "FKLF8eZ8iMvO"
      },
      "outputs": [],
      "source": [
        "before = pd.Series(x['19:00-day1'])\n",
        "after = hampel(before, window_size=5, n=3, imputation=True)\n",
        "x['19:00-day1'] = after"
      ]
    },
    {
      "cell_type": "code",
      "execution_count": null,
      "metadata": {
        "id": "bD05kVDQiOxm"
      },
      "outputs": [],
      "source": [
        "before = pd.Series(x['19:30-day1'])\n",
        "after = hampel(before, window_size=5, n=3, imputation=True)\n",
        "x['19:30-day1'] = after"
      ]
    },
    {
      "cell_type": "code",
      "execution_count": null,
      "metadata": {
        "id": "pGL4AHuIiRLD"
      },
      "outputs": [],
      "source": [
        "before = pd.Series(x['20:00-day1'])\n",
        "after = hampel(before, window_size=5, n=3, imputation=True)\n",
        "x['20:00-day1'] = after"
      ]
    },
    {
      "cell_type": "code",
      "execution_count": null,
      "metadata": {
        "id": "-UfhXT99iUG2"
      },
      "outputs": [],
      "source": [
        "before = pd.Series(x['20:30-day1'])\n",
        "after = hampel(before, window_size=5, n=3, imputation=True)\n",
        "x['20:30-day1'] = after"
      ]
    },
    {
      "cell_type": "code",
      "execution_count": null,
      "metadata": {
        "id": "moWUfAvOiVt6"
      },
      "outputs": [],
      "source": [
        "before = pd.Series(x['21:00-day1'])\n",
        "after = hampel(before, window_size=5, n=3, imputation=True)\n",
        "x['21:00-day1'] = after"
      ]
    },
    {
      "cell_type": "code",
      "execution_count": null,
      "metadata": {
        "id": "ijvlgvtKiaM8"
      },
      "outputs": [],
      "source": [
        "before = pd.Series(x['21:30-day1'])\n",
        "after = hampel(before, window_size=5, n=3, imputation=True)\n",
        "x['21:30-day1'] = after"
      ]
    },
    {
      "cell_type": "code",
      "execution_count": null,
      "metadata": {
        "id": "Wcal1kzYidUJ"
      },
      "outputs": [],
      "source": [
        "before = pd.Series(x['22:00-day1'])\n",
        "after = hampel(before, window_size=5, n=3, imputation=True)\n",
        "x['22:00-day1'] = after"
      ]
    },
    {
      "cell_type": "code",
      "execution_count": null,
      "metadata": {
        "id": "HFLrbEGqigDB"
      },
      "outputs": [],
      "source": [
        "before = pd.Series(x['22:30-day1'])\n",
        "after = hampel(before, window_size=5, n=3, imputation=True)\n",
        "x['22:30-day1'] = after"
      ]
    },
    {
      "cell_type": "code",
      "execution_count": null,
      "metadata": {
        "id": "4hc7xdXvihs4"
      },
      "outputs": [],
      "source": [
        "before = pd.Series(x['23:00-day1'])\n",
        "after = hampel(before, window_size=5, n=3, imputation=True)\n",
        "x['23:00-day1'] = after"
      ]
    },
    {
      "cell_type": "code",
      "execution_count": null,
      "metadata": {
        "id": "vqCNCV-Dijta"
      },
      "outputs": [],
      "source": [
        "before = pd.Series(x['23:30-day1'])\n",
        "after = hampel(before, window_size=5, n=3, imputation=True)\n",
        "x['23:30-day1'] = after"
      ]
    },
    {
      "cell_type": "code",
      "execution_count": null,
      "metadata": {
        "id": "7ipmYiSPiops"
      },
      "outputs": [],
      "source": [
        "before = pd.Series(x['0:00-day1'])\n",
        "after = hampel(before, window_size=5, n=3, imputation=True)\n",
        "x['0:00-day1'] = after"
      ]
    },
    {
      "cell_type": "code",
      "execution_count": null,
      "metadata": {
        "id": "ojVs8rp5i8TC"
      },
      "outputs": [],
      "source": [
        "before = pd.Series(x['0:30-day2'])\n",
        "after = hampel(before, window_size=5, n=3, imputation=True)\n",
        "x['0:30-day2'] = after"
      ]
    },
    {
      "cell_type": "code",
      "execution_count": null,
      "metadata": {
        "id": "eE_iWwhyjBMg"
      },
      "outputs": [],
      "source": [
        "before = pd.Series(x['1:00-day2'])\n",
        "after = hampel(before, window_size=5, n=3, imputation=True)\n",
        "x['1:00-day2'] = after"
      ]
    },
    {
      "cell_type": "code",
      "execution_count": null,
      "metadata": {
        "id": "f5oe_eNAjCj-"
      },
      "outputs": [],
      "source": [
        "before = pd.Series(x['1:30-day2'])\n",
        "after = hampel(before, window_size=5, n=3, imputation=True)\n",
        "x['1:30-day2'] = after"
      ]
    },
    {
      "cell_type": "code",
      "execution_count": null,
      "metadata": {
        "id": "3ukY5Y-XjEhK"
      },
      "outputs": [],
      "source": [
        "before = pd.Series(x['2:00-day2'])\n",
        "after = hampel(before, window_size=5, n=3, imputation=True)\n",
        "x['2:00-day2'] = after"
      ]
    },
    {
      "cell_type": "code",
      "execution_count": null,
      "metadata": {
        "id": "6oqH-Z3OjGiC"
      },
      "outputs": [],
      "source": [
        "before = pd.Series(x['2:30-day2'])\n",
        "after = hampel(before, window_size=5, n=3, imputation=True)\n",
        "x['2:30-day2'] = after"
      ]
    },
    {
      "cell_type": "code",
      "execution_count": null,
      "metadata": {
        "id": "UF5VGK4WjId7"
      },
      "outputs": [],
      "source": [
        "before = pd.Series(x['3:00-day2'])\n",
        "after = hampel(before, window_size=5, n=3, imputation=True)\n",
        "x['3:00-day2'] = after"
      ]
    },
    {
      "cell_type": "code",
      "execution_count": null,
      "metadata": {
        "id": "9ttkki_AjLOt"
      },
      "outputs": [],
      "source": [
        "before = pd.Series(x['3:30-day2'])\n",
        "after = hampel(before, window_size=5, n=3, imputation=True)\n",
        "x['3:30-day2'] = after"
      ]
    },
    {
      "cell_type": "code",
      "execution_count": null,
      "metadata": {
        "id": "LUOBt7ZmjMoi"
      },
      "outputs": [],
      "source": [
        "before = pd.Series(x['4:00-day2'])\n",
        "after = hampel(before, window_size=5, n=3, imputation=True)\n",
        "x['4:00-day2'] = after"
      ]
    },
    {
      "cell_type": "code",
      "execution_count": null,
      "metadata": {
        "id": "BMpSGT2pjPOG"
      },
      "outputs": [],
      "source": [
        "before = pd.Series(x['4:30-day2'])\n",
        "after = hampel(before, window_size=5, n=3, imputation=True)\n",
        "x['4:30-day2'] = after"
      ]
    },
    {
      "cell_type": "code",
      "execution_count": null,
      "metadata": {
        "id": "TGJlkBMkjQkg"
      },
      "outputs": [],
      "source": [
        "before = pd.Series(x['5:00-day2'])\n",
        "after = hampel(before, window_size=5, n=3, imputation=True)\n",
        "x['5:00-day2'] = after"
      ]
    },
    {
      "cell_type": "code",
      "execution_count": null,
      "metadata": {
        "colab": {
          "background_save": true
        },
        "id": "2KR_ZRotjSIR"
      },
      "outputs": [],
      "source": [
        "before = pd.Series(x['5:30-day2'])\n",
        "after = hampel(before, window_size=5, n=3, imputation=True)\n",
        "x['5:30-day2'] = after"
      ]
    },
    {
      "cell_type": "code",
      "execution_count": null,
      "metadata": {
        "colab": {
          "background_save": true
        },
        "id": "ZKmEwbxzjUQP"
      },
      "outputs": [],
      "source": [
        "before = pd.Series(x['6:00-day2'])\n",
        "after = hampel(before, window_size=5, n=3, imputation=True)\n",
        "x['6:00-day2'] = after"
      ]
    },
    {
      "cell_type": "code",
      "execution_count": null,
      "metadata": {
        "colab": {
          "background_save": true
        },
        "id": "XhsFqEA5jXNd"
      },
      "outputs": [],
      "source": [
        "before = pd.Series(x['6:30-day2'])\n",
        "after = hampel(before, window_size=5, n=3, imputation=True)\n",
        "x['6:30-day2'] = after"
      ]
    },
    {
      "cell_type": "code",
      "execution_count": null,
      "metadata": {
        "colab": {
          "background_save": true
        },
        "id": "wxNr1FLzjZ8l"
      },
      "outputs": [],
      "source": [
        "before = pd.Series(x['7:00-day2'])\n",
        "after = hampel(before, window_size=5, n=3, imputation=True)\n",
        "x['7:00-day2'] = after"
      ]
    },
    {
      "cell_type": "code",
      "execution_count": null,
      "metadata": {
        "colab": {
          "background_save": true
        },
        "id": "fMzMl3XOjb-j"
      },
      "outputs": [],
      "source": [
        "before = pd.Series(x['7:30-day2'])\n",
        "after = hampel(before, window_size=5, n=3, imputation=True)\n",
        "x['7:30-day2'] = after"
      ]
    },
    {
      "cell_type": "code",
      "execution_count": null,
      "metadata": {
        "colab": {
          "background_save": true
        },
        "id": "huiwJ1EFjeld"
      },
      "outputs": [],
      "source": [
        "before = pd.Series(x['8:00-day2'])\n",
        "after = hampel(before, window_size=5, n=3, imputation=True)\n",
        "x['8:00-day2'] = after"
      ]
    },
    {
      "cell_type": "code",
      "execution_count": null,
      "metadata": {
        "colab": {
          "background_save": true
        },
        "id": "RvvJLLuijisC"
      },
      "outputs": [],
      "source": [
        "before = pd.Series(x['8:30-day2'])\n",
        "after = hampel(before, window_size=5, n=3, imputation=True)\n",
        "x['8:30-day2'] = after"
      ]
    },
    {
      "cell_type": "code",
      "execution_count": null,
      "metadata": {
        "colab": {
          "background_save": true
        },
        "id": "yo7HEJVFjovy"
      },
      "outputs": [],
      "source": [
        "before = pd.Series(x['9:00-day2'])\n",
        "after = hampel(before, window_size=5, n=3, imputation=True)\n",
        "x['9:00-day2'] = after"
      ]
    },
    {
      "cell_type": "code",
      "execution_count": null,
      "metadata": {
        "colab": {
          "background_save": true
        },
        "id": "ZND3TvmBjqwu"
      },
      "outputs": [],
      "source": [
        "before = pd.Series(x['9:30-day2'])\n",
        "after = hampel(before, window_size=5, n=3, imputation=True)\n",
        "x['9:30-day2'] = after"
      ]
    },
    {
      "cell_type": "code",
      "execution_count": null,
      "metadata": {
        "colab": {
          "background_save": true
        },
        "id": "lrSoqmexj4LC"
      },
      "outputs": [],
      "source": [
        "before = pd.Series(x['10:00-day2'])\n",
        "after = hampel(before, window_size=5, n=3, imputation=True)\n",
        "x['10:00-day2'] = after"
      ]
    },
    {
      "cell_type": "code",
      "execution_count": null,
      "metadata": {
        "colab": {
          "background_save": true
        },
        "id": "FVS53ywXj6EH"
      },
      "outputs": [],
      "source": [
        "before = pd.Series(x['10:30-day2'])\n",
        "after = hampel(before, window_size=5, n=3, imputation=True)\n",
        "x['10:30-day2'] = after"
      ]
    },
    {
      "cell_type": "code",
      "execution_count": null,
      "metadata": {
        "colab": {
          "background_save": true
        },
        "id": "brF8sMyuj8PZ"
      },
      "outputs": [],
      "source": [
        "before = pd.Series(x['11:00-day2'])\n",
        "after = hampel(before, window_size=5, n=3, imputation=True)\n",
        "x['11:00-day2'] = after"
      ]
    },
    {
      "cell_type": "code",
      "execution_count": null,
      "metadata": {
        "colab": {
          "background_save": true
        },
        "id": "xbY6wyOqj91o"
      },
      "outputs": [],
      "source": [
        "before = pd.Series(x['11:30-day2'])\n",
        "after = hampel(before, window_size=5, n=3, imputation=True)\n",
        "x['11:30-day2'] = after"
      ]
    },
    {
      "cell_type": "code",
      "execution_count": null,
      "metadata": {
        "colab": {
          "background_save": true
        },
        "id": "7zrznxLdj_qR"
      },
      "outputs": [],
      "source": [
        "before = pd.Series(x['12:00-day2'])\n",
        "after = hampel(before, window_size=5, n=3, imputation=True)\n",
        "x['12:00-day2'] = after"
      ]
    },
    {
      "cell_type": "code",
      "execution_count": null,
      "metadata": {
        "colab": {
          "background_save": true
        },
        "id": "bTy1ZvQLkBcd"
      },
      "outputs": [],
      "source": [
        "before = pd.Series(x['12:30-day2'])\n",
        "after = hampel(before, window_size=5, n=3, imputation=True)\n",
        "x['12:30-day2'] = after"
      ]
    },
    {
      "cell_type": "code",
      "execution_count": null,
      "metadata": {
        "colab": {
          "background_save": true
        },
        "id": "erfwNdNhkDMr"
      },
      "outputs": [],
      "source": [
        "before = pd.Series(x['13:00-day2'])\n",
        "after = hampel(before, window_size=5, n=3, imputation=True)\n",
        "x['13:00-day2'] = after"
      ]
    },
    {
      "cell_type": "code",
      "execution_count": null,
      "metadata": {
        "colab": {
          "background_save": true
        },
        "id": "IkUYdIFjkGgV"
      },
      "outputs": [],
      "source": [
        "before = pd.Series(x['13:30-day2'])\n",
        "after = hampel(before, window_size=5, n=3, imputation=True)\n",
        "x['13:30-day2'] = after"
      ]
    },
    {
      "cell_type": "code",
      "execution_count": null,
      "metadata": {
        "colab": {
          "background_save": true
        },
        "id": "atQHBihFkIvV"
      },
      "outputs": [],
      "source": [
        "before = pd.Series(x['14:00-day2'])\n",
        "after = hampel(before, window_size=5, n=3, imputation=True)\n",
        "x['14:00-day2'] = after"
      ]
    },
    {
      "cell_type": "code",
      "execution_count": null,
      "metadata": {
        "colab": {
          "background_save": true
        },
        "id": "VdD0lJOFkKfH"
      },
      "outputs": [],
      "source": [
        "before = pd.Series(x['14:30-day2'])\n",
        "after = hampel(before, window_size=5, n=3, imputation=True)\n",
        "x['14:30-day2'] = after"
      ]
    },
    {
      "cell_type": "code",
      "execution_count": null,
      "metadata": {
        "colab": {
          "background_save": true
        },
        "id": "rtM49UG5kMVl"
      },
      "outputs": [],
      "source": [
        "before = pd.Series(x['15:00-day2'])\n",
        "after = hampel(before, window_size=5, n=3, imputation=True)\n",
        "x['15:00-day2'] = after"
      ]
    },
    {
      "cell_type": "code",
      "execution_count": null,
      "metadata": {
        "colab": {
          "background_save": true
        },
        "id": "qYalTe0vkOJt"
      },
      "outputs": [],
      "source": [
        "before = pd.Series(x['15:30-day2'])\n",
        "after = hampel(before, window_size=5, n=3, imputation=True)\n",
        "x['15:30-day2'] = after"
      ]
    },
    {
      "cell_type": "code",
      "execution_count": null,
      "metadata": {
        "colab": {
          "background_save": true
        },
        "id": "R-BWfoGmkQKc"
      },
      "outputs": [],
      "source": [
        "before = pd.Series(x['16:00-day2'])\n",
        "after = hampel(before, window_size=5, n=3, imputation=True)\n",
        "x['16:00-day2'] = after"
      ]
    },
    {
      "cell_type": "code",
      "execution_count": null,
      "metadata": {
        "colab": {
          "background_save": true
        },
        "id": "cYVb4OM8kSEb"
      },
      "outputs": [],
      "source": [
        "before = pd.Series(x['16:30-day2'])\n",
        "after = hampel(before, window_size=5, n=3, imputation=True)\n",
        "x['16:30-day2'] = after"
      ]
    },
    {
      "cell_type": "code",
      "execution_count": null,
      "metadata": {
        "colab": {
          "background_save": true
        },
        "id": "zs2f2UNNkThe"
      },
      "outputs": [],
      "source": [
        "before = pd.Series(x['17:00-day2'])\n",
        "after = hampel(before, window_size=5, n=3, imputation=True)\n",
        "x['17:00-day2'] = after"
      ]
    },
    {
      "cell_type": "code",
      "execution_count": null,
      "metadata": {
        "colab": {
          "background_save": true
        },
        "id": "f_9_fUAMkVpA"
      },
      "outputs": [],
      "source": [
        "before = pd.Series(x['17:30-day2'])\n",
        "after = hampel(before, window_size=5, n=3, imputation=True)\n",
        "x['17:30-day2'] = after"
      ]
    },
    {
      "cell_type": "code",
      "execution_count": null,
      "metadata": {
        "colab": {
          "background_save": true
        },
        "id": "eUGoeEqNkXne"
      },
      "outputs": [],
      "source": [
        "before = pd.Series(x['18:00-day2'])\n",
        "after = hampel(before, window_size=5, n=3, imputation=True)\n",
        "x['18:00-day2'] = after"
      ]
    },
    {
      "cell_type": "code",
      "execution_count": null,
      "metadata": {
        "colab": {
          "background_save": true
        },
        "id": "PTOT1AdhkZdB"
      },
      "outputs": [],
      "source": [
        "before = pd.Series(x['18:30-day2'])\n",
        "after = hampel(before, window_size=5, n=3, imputation=True)\n",
        "x['18:30-day2'] = after"
      ]
    },
    {
      "cell_type": "code",
      "execution_count": null,
      "metadata": {
        "colab": {
          "background_save": true
        },
        "id": "qpveCcWTkbdY"
      },
      "outputs": [],
      "source": [
        "before = pd.Series(x['19:00-day2'])\n",
        "after = hampel(before, window_size=5, n=3, imputation=True)\n",
        "x['19:00-day2'] = after"
      ]
    },
    {
      "cell_type": "code",
      "execution_count": null,
      "metadata": {
        "colab": {
          "background_save": true
        },
        "id": "JnYh1ao_kdGX"
      },
      "outputs": [],
      "source": [
        "before = pd.Series(x['19:30-day2'])\n",
        "after = hampel(before, window_size=5, n=3, imputation=True)\n",
        "x['19:30-day2'] = after"
      ]
    },
    {
      "cell_type": "code",
      "execution_count": null,
      "metadata": {
        "colab": {
          "background_save": true
        },
        "id": "bNcq6dstkhoV"
      },
      "outputs": [],
      "source": [
        "before = pd.Series(x['20:00-day2'])\n",
        "after = hampel(before, window_size=5, n=3, imputation=True)\n",
        "x['20:00-day2'] = after"
      ]
    },
    {
      "cell_type": "code",
      "execution_count": null,
      "metadata": {
        "colab": {
          "background_save": true
        },
        "id": "5x0dzGbXkkBh"
      },
      "outputs": [],
      "source": [
        "before = pd.Series(x['20:30-day2'])\n",
        "after = hampel(before, window_size=5, n=3, imputation=True)\n",
        "x['20:30-day2'] = after"
      ]
    },
    {
      "cell_type": "code",
      "execution_count": null,
      "metadata": {
        "colab": {
          "background_save": true
        },
        "id": "VE8HDRDQkl-z"
      },
      "outputs": [],
      "source": [
        "before = pd.Series(x['21:00-day2'])\n",
        "after = hampel(before, window_size=5, n=3, imputation=True)\n",
        "x['21:00-day2'] = after"
      ]
    },
    {
      "cell_type": "code",
      "execution_count": null,
      "metadata": {
        "colab": {
          "background_save": true
        },
        "id": "urd8qqVCkoCw"
      },
      "outputs": [],
      "source": [
        "before = pd.Series(x['21:30-day2'])\n",
        "after = hampel(before, window_size=5, n=3, imputation=True)\n",
        "x['21:30-day2'] = after"
      ]
    },
    {
      "cell_type": "code",
      "execution_count": null,
      "metadata": {
        "colab": {
          "background_save": true
        },
        "id": "rJwk4VOEksCP"
      },
      "outputs": [],
      "source": [
        "before = pd.Series(x['22:00-day2'])\n",
        "after = hampel(before, window_size=5, n=3, imputation=True)\n",
        "x['22:00-day2'] = after"
      ]
    },
    {
      "cell_type": "code",
      "execution_count": null,
      "metadata": {
        "colab": {
          "background_save": true
        },
        "id": "TvW2uRmAkujF"
      },
      "outputs": [],
      "source": [
        "before = pd.Series(x['22:30-day2'])\n",
        "after = hampel(before, window_size=5, n=3, imputation=True)\n",
        "x['22:30-day2'] = after"
      ]
    },
    {
      "cell_type": "code",
      "execution_count": null,
      "metadata": {
        "colab": {
          "background_save": true
        },
        "id": "qyEKH518kwbF"
      },
      "outputs": [],
      "source": [
        "before = pd.Series(x['23:00-day2'])\n",
        "after = hampel(before, window_size=5, n=3, imputation=True)\n",
        "x['23:00-day2'] = after"
      ]
    },
    {
      "cell_type": "code",
      "execution_count": null,
      "metadata": {
        "colab": {
          "background_save": true
        },
        "id": "gkoFvujikzEL"
      },
      "outputs": [],
      "source": [
        "before = pd.Series(x['23:30-day2'])\n",
        "after = hampel(before, window_size=5, n=3, imputation=True)\n",
        "x['23:30-day2'] = after"
      ]
    },
    {
      "cell_type": "code",
      "execution_count": null,
      "metadata": {
        "colab": {
          "background_save": true
        },
        "id": "I5vvnyGJk4_d"
      },
      "outputs": [],
      "source": [
        "before = pd.Series(x['0:00-day2'])\n",
        "after = hampel(before, window_size=5, n=3, imputation=True)\n",
        "x['0:00-day2'] = after"
      ]
    },
    {
      "cell_type": "markdown",
      "metadata": {
        "id": "BTmRHmi2x9wv"
      },
      "source": [
        "#Hampel Filter for Y Data"
      ]
    },
    {
      "cell_type": "code",
      "execution_count": null,
      "metadata": {
        "colab": {
          "background_save": true
        },
        "id": "4t0pvmnxyArR"
      },
      "outputs": [],
      "source": [
        "before = pd.Series(y['0:30-day1'])\n",
        "after = hampel(before, window_size=5, n=3, imputation=True)\n",
        "y['0:30-day1'] = after"
      ]
    },
    {
      "cell_type": "code",
      "execution_count": null,
      "metadata": {
        "colab": {
          "background_save": true
        },
        "id": "lR0mNq1yyShj"
      },
      "outputs": [],
      "source": [
        "before = pd.Series(y['1:00-day1'])\n",
        "after = hampel(before, window_size=5, n=3, imputation=True)\n",
        "y['1:00-day1'] = after"
      ]
    },
    {
      "cell_type": "code",
      "execution_count": null,
      "metadata": {
        "colab": {
          "background_save": true
        },
        "id": "1woanJQ-yWK1"
      },
      "outputs": [],
      "source": [
        "before = pd.Series(y['1:30-day1'])\n",
        "after = hampel(before, window_size=5, n=3, imputation=True)\n",
        "y['1:30-day1'] = after"
      ]
    },
    {
      "cell_type": "code",
      "execution_count": null,
      "metadata": {
        "colab": {
          "background_save": true
        },
        "id": "id9i2ceiyYOy"
      },
      "outputs": [],
      "source": [
        "before = pd.Series(y['2:00-day1'])\n",
        "after = hampel(before, window_size=5, n=3, imputation=True)\n",
        "y['2:00-day1'] = after"
      ]
    },
    {
      "cell_type": "code",
      "execution_count": null,
      "metadata": {
        "colab": {
          "background_save": true
        },
        "id": "R24KVeKHyat4"
      },
      "outputs": [],
      "source": [
        "before = pd.Series(y['2:30-day1'])\n",
        "after = hampel(before, window_size=5, n=3, imputation=True)\n",
        "y['2:30-day1'] = after"
      ]
    },
    {
      "cell_type": "code",
      "execution_count": null,
      "metadata": {
        "colab": {
          "background_save": true
        },
        "id": "BEdRd3CQyc-u"
      },
      "outputs": [],
      "source": [
        "before = pd.Series(y['3:00-day1'])\n",
        "after = hampel(before, window_size=5, n=3, imputation=True)\n",
        "y['3:00-day1'] = after"
      ]
    },
    {
      "cell_type": "code",
      "execution_count": null,
      "metadata": {
        "colab": {
          "background_save": true
        },
        "id": "qo6DxnWpyfDM"
      },
      "outputs": [],
      "source": [
        "before = pd.Series(y['3:30-day1'])\n",
        "after = hampel(before, window_size=5, n=3, imputation=True)\n",
        "y['3:30-day1'] = after"
      ]
    },
    {
      "cell_type": "code",
      "execution_count": null,
      "metadata": {
        "colab": {
          "background_save": true
        },
        "id": "ecd-1Bt9yg-x"
      },
      "outputs": [],
      "source": [
        "before = pd.Series(y['4:00-day1'])\n",
        "after = hampel(before, window_size=5, n=3, imputation=True)\n",
        "y['4:00-day1'] = after"
      ]
    },
    {
      "cell_type": "code",
      "execution_count": null,
      "metadata": {
        "colab": {
          "background_save": true
        },
        "id": "LC-MT-aVyjM7"
      },
      "outputs": [],
      "source": [
        "before = pd.Series(y['4:30-day1'])\n",
        "after = hampel(before, window_size=5, n=3, imputation=True)\n",
        "y['4:30-day1'] = after"
      ]
    },
    {
      "cell_type": "code",
      "execution_count": null,
      "metadata": {
        "colab": {
          "background_save": true
        },
        "id": "BdJZtZA9ylXO"
      },
      "outputs": [],
      "source": [
        "before = pd.Series(y['5:00-day1'])\n",
        "after = hampel(before, window_size=5, n=3, imputation=True)\n",
        "y['5:00-day1'] = after"
      ]
    },
    {
      "cell_type": "code",
      "execution_count": null,
      "metadata": {
        "colab": {
          "background_save": true
        },
        "id": "3ViDcviLyx47"
      },
      "outputs": [],
      "source": [
        "before = pd.Series(y['5:30-day1'])\n",
        "after = hampel(before, window_size=5, n=3, imputation=True)\n",
        "y['5:30-day1'] = after"
      ]
    },
    {
      "cell_type": "code",
      "execution_count": null,
      "metadata": {
        "colab": {
          "background_save": true
        },
        "id": "OhbQgD5Vyz5E"
      },
      "outputs": [],
      "source": [
        "before = pd.Series(y['6:00-day1'])\n",
        "after = hampel(before, window_size=5, n=3, imputation=True)\n",
        "y['6:00-day1'] = after"
      ]
    },
    {
      "cell_type": "code",
      "execution_count": null,
      "metadata": {
        "colab": {
          "background_save": true
        },
        "id": "R8pCb6n7y2mp"
      },
      "outputs": [],
      "source": [
        "before = pd.Series(y['6:30-day1'])\n",
        "after = hampel(before, window_size=5, n=3, imputation=True)\n",
        "y['6:30-day1'] = after"
      ]
    },
    {
      "cell_type": "code",
      "execution_count": null,
      "metadata": {
        "colab": {
          "background_save": true
        },
        "id": "Bd8SYwzcy4sQ"
      },
      "outputs": [],
      "source": [
        "before = pd.Series(y['7:00-day1'])\n",
        "after = hampel(before, window_size=5, n=3, imputation=True)\n",
        "y['7:00-day1'] = after"
      ]
    },
    {
      "cell_type": "code",
      "execution_count": null,
      "metadata": {
        "colab": {
          "background_save": true
        },
        "id": "e92qCJvUy6xD"
      },
      "outputs": [],
      "source": [
        "before = pd.Series(y['7:30-day1'])\n",
        "after = hampel(before, window_size=5, n=3, imputation=True)\n",
        "y['7:30-day1'] = after"
      ]
    },
    {
      "cell_type": "code",
      "execution_count": null,
      "metadata": {
        "colab": {
          "background_save": true
        },
        "id": "QMORO5g2y8ea"
      },
      "outputs": [],
      "source": [
        "before = pd.Series(y['8:00-day1'])\n",
        "after = hampel(before, window_size=5, n=3, imputation=True)\n",
        "y['8:00-day1'] = after"
      ]
    },
    {
      "cell_type": "code",
      "execution_count": null,
      "metadata": {
        "colab": {
          "background_save": true
        },
        "id": "-iymWROwy-Vf"
      },
      "outputs": [],
      "source": [
        "before = pd.Series(y['8:30-day1'])\n",
        "after = hampel(before, window_size=5, n=3, imputation=True)\n",
        "y['8:30-day1'] = after"
      ]
    },
    {
      "cell_type": "code",
      "execution_count": null,
      "metadata": {
        "colab": {
          "background_save": true
        },
        "id": "09-QtZxSy_6T"
      },
      "outputs": [],
      "source": [
        "before = pd.Series(y['9:00-day1'])\n",
        "after = hampel(before, window_size=5, n=3, imputation=True)\n",
        "y['9:00-day1'] = after"
      ]
    },
    {
      "cell_type": "code",
      "execution_count": null,
      "metadata": {
        "colab": {
          "background_save": true
        },
        "id": "dMrVmwF3zEQG"
      },
      "outputs": [],
      "source": [
        "before = pd.Series(y['9:30-day1'])\n",
        "after = hampel(before, window_size=5, n=3, imputation=True)\n",
        "y['9:30-day1'] = after"
      ]
    },
    {
      "cell_type": "code",
      "execution_count": null,
      "metadata": {
        "colab": {
          "background_save": true
        },
        "id": "Hc4fZZiKzGWW"
      },
      "outputs": [],
      "source": [
        "before = pd.Series(y['10:00-day1'])\n",
        "after = hampel(before, window_size=5, n=3, imputation=True)\n",
        "y['10:00-day1'] = after"
      ]
    },
    {
      "cell_type": "code",
      "execution_count": null,
      "metadata": {
        "colab": {
          "background_save": true
        },
        "id": "lX6NsDGTzIde"
      },
      "outputs": [],
      "source": [
        "before = pd.Series(y['10:30-day1'])\n",
        "after = hampel(before, window_size=5, n=3, imputation=True)\n",
        "y['10:30-day1'] = after"
      ]
    },
    {
      "cell_type": "code",
      "execution_count": null,
      "metadata": {
        "colab": {
          "background_save": true
        },
        "id": "G4O9K1GFzMZP"
      },
      "outputs": [],
      "source": [
        "before = pd.Series(y['11:00-day1'])\n",
        "after = hampel(before, window_size=5, n=3, imputation=True)\n",
        "y['11:00-day1'] = after"
      ]
    },
    {
      "cell_type": "code",
      "execution_count": null,
      "metadata": {
        "colab": {
          "background_save": true
        },
        "id": "6ROAuH86zObD"
      },
      "outputs": [],
      "source": [
        "before = pd.Series(y['11:30-day1'])\n",
        "after = hampel(before, window_size=5, n=3, imputation=True)\n",
        "y['11:30-day1'] = after"
      ]
    },
    {
      "cell_type": "code",
      "execution_count": null,
      "metadata": {
        "colab": {
          "background_save": true
        },
        "id": "seJSaPXJzQnq"
      },
      "outputs": [],
      "source": [
        "before = pd.Series(y['12:00-day1'])\n",
        "after = hampel(before, window_size=5, n=3, imputation=True)\n",
        "y['12:00-day1'] = after"
      ]
    },
    {
      "cell_type": "code",
      "execution_count": null,
      "metadata": {
        "colab": {
          "background_save": true
        },
        "id": "sy6jWMW9zY1k"
      },
      "outputs": [],
      "source": [
        "before = pd.Series(y['12:30-day1'])\n",
        "after = hampel(before, window_size=5, n=3, imputation=True)\n",
        "y['12:30-day1'] = after"
      ]
    },
    {
      "cell_type": "code",
      "execution_count": null,
      "metadata": {
        "colab": {
          "background_save": true
        },
        "id": "N-Ri2OwUza3p"
      },
      "outputs": [],
      "source": [
        "before = pd.Series(y['13:00-day1'])\n",
        "after = hampel(before, window_size=5, n=3, imputation=True)\n",
        "y['13:00-day1'] = after"
      ]
    },
    {
      "cell_type": "code",
      "execution_count": null,
      "metadata": {
        "colab": {
          "background_save": true
        },
        "id": "Ltr0o1mZzc4R"
      },
      "outputs": [],
      "source": [
        "before = pd.Series(y['13:30-day1'])\n",
        "after = hampel(before, window_size=5, n=3, imputation=True)\n",
        "y['13:30-day1'] = after"
      ]
    },
    {
      "cell_type": "code",
      "execution_count": null,
      "metadata": {
        "colab": {
          "background_save": true
        },
        "id": "7qwA5HjNzgB-"
      },
      "outputs": [],
      "source": [
        "before = pd.Series(y['14:00-day1'])\n",
        "after = hampel(before, window_size=5, n=3, imputation=True)\n",
        "y['14:00-day1'] = after"
      ]
    },
    {
      "cell_type": "code",
      "execution_count": null,
      "metadata": {
        "colab": {
          "background_save": true
        },
        "id": "y3ix5nkVziPF"
      },
      "outputs": [],
      "source": [
        "before = pd.Series(y['14:30-day1'])\n",
        "after = hampel(before, window_size=5, n=3, imputation=True)\n",
        "y['14:30-day1'] = after"
      ]
    },
    {
      "cell_type": "code",
      "execution_count": null,
      "metadata": {
        "colab": {
          "background_save": true
        },
        "id": "Z8OVyQggzkUE"
      },
      "outputs": [],
      "source": [
        "before = pd.Series(y['15:00-day1'])\n",
        "after = hampel(before, window_size=5, n=3, imputation=True)\n",
        "y['15:00-day1'] = after"
      ]
    },
    {
      "cell_type": "code",
      "execution_count": null,
      "metadata": {
        "colab": {
          "background_save": true
        },
        "id": "1l747K3hznLy"
      },
      "outputs": [],
      "source": [
        "before = pd.Series(y['15:30-day1'])\n",
        "after = hampel(before, window_size=5, n=3, imputation=True)\n",
        "y['15:30-day1'] = after"
      ]
    },
    {
      "cell_type": "code",
      "execution_count": null,
      "metadata": {
        "colab": {
          "background_save": true
        },
        "id": "5jHU1nHZzpMj"
      },
      "outputs": [],
      "source": [
        "before = pd.Series(y['16:00-day1'])\n",
        "after = hampel(before, window_size=5, n=3, imputation=True)\n",
        "y['16:00-day1'] = after"
      ]
    },
    {
      "cell_type": "code",
      "execution_count": null,
      "metadata": {
        "colab": {
          "background_save": true
        },
        "id": "jMEWgIq0zsNr"
      },
      "outputs": [],
      "source": [
        "before = pd.Series(y['16:30-day1'])\n",
        "after = hampel(before, window_size=5, n=3, imputation=True)\n",
        "y['16:30-day1'] = after"
      ]
    },
    {
      "cell_type": "code",
      "execution_count": null,
      "metadata": {
        "colab": {
          "background_save": true
        },
        "id": "VV1qHZ1fzugn"
      },
      "outputs": [],
      "source": [
        "before = pd.Series(y['17:00-day1'])\n",
        "after = hampel(before, window_size=5, n=3, imputation=True)\n",
        "y['17:00-day1'] = after"
      ]
    },
    {
      "cell_type": "code",
      "execution_count": null,
      "metadata": {
        "colab": {
          "background_save": true
        },
        "id": "WESXdVryzwUd"
      },
      "outputs": [],
      "source": [
        "before = pd.Series(y['17:30-day1'])\n",
        "after = hampel(before, window_size=5, n=3, imputation=True)\n",
        "y['17:30-day1'] = after"
      ]
    },
    {
      "cell_type": "code",
      "execution_count": null,
      "metadata": {
        "colab": {
          "background_save": true
        },
        "id": "B2naHhSNz0MP"
      },
      "outputs": [],
      "source": [
        "before = pd.Series(y['18:00-day1'])\n",
        "after = hampel(before, window_size=5, n=3, imputation=True)\n",
        "y['18:00-day1'] = after"
      ]
    },
    {
      "cell_type": "code",
      "execution_count": null,
      "metadata": {
        "colab": {
          "background_save": true
        },
        "id": "FfSnW0m7z15A"
      },
      "outputs": [],
      "source": [
        "before = pd.Series(y['18:30-day1'])\n",
        "after = hampel(before, window_size=5, n=3, imputation=True)\n",
        "y['18:30-day1'] = after"
      ]
    },
    {
      "cell_type": "code",
      "execution_count": null,
      "metadata": {
        "colab": {
          "background_save": true
        },
        "id": "eV9bgEZwz5Uv"
      },
      "outputs": [],
      "source": [
        "before = pd.Series(y['19:00-day1'])\n",
        "after = hampel(before, window_size=5, n=3, imputation=True)\n",
        "y['19:00-day1'] = after"
      ]
    },
    {
      "cell_type": "code",
      "execution_count": null,
      "metadata": {
        "colab": {
          "background_save": true
        },
        "id": "Kv78Qm3Gz8Nd"
      },
      "outputs": [],
      "source": [
        "before = pd.Series(y['19:30-day1'])\n",
        "after = hampel(before, window_size=5, n=3, imputation=True)\n",
        "y['19:30-day1'] = after"
      ]
    },
    {
      "cell_type": "code",
      "execution_count": null,
      "metadata": {
        "colab": {
          "background_save": true
        },
        "id": "gV0UoR0vz-Gb"
      },
      "outputs": [],
      "source": [
        "before = pd.Series(y['20:00-day1'])\n",
        "after = hampel(before, window_size=5, n=3, imputation=True)\n",
        "y['20:00-day1'] = after"
      ]
    },
    {
      "cell_type": "code",
      "execution_count": null,
      "metadata": {
        "colab": {
          "background_save": true
        },
        "id": "gg4sxV6A0DyJ"
      },
      "outputs": [],
      "source": [
        "before = pd.Series(y['20:30-day1'])\n",
        "after = hampel(before, window_size=5, n=3, imputation=True)\n",
        "y['20:30-day1'] = after"
      ]
    },
    {
      "cell_type": "code",
      "execution_count": null,
      "metadata": {
        "colab": {
          "background_save": true
        },
        "id": "9OL0aC8J0IX1"
      },
      "outputs": [],
      "source": [
        "before = pd.Series(y['21:00-day1'])\n",
        "after = hampel(before, window_size=5, n=3, imputation=True)\n",
        "y['21:00-day1'] = after"
      ]
    },
    {
      "cell_type": "code",
      "execution_count": null,
      "metadata": {
        "colab": {
          "background_save": true
        },
        "id": "piLz8qIR0MOE"
      },
      "outputs": [],
      "source": [
        "before = pd.Series(y['21:30-day1'])\n",
        "after = hampel(before, window_size=5, n=3, imputation=True)\n",
        "y['21:30-day1'] = after"
      ]
    },
    {
      "cell_type": "code",
      "execution_count": null,
      "metadata": {
        "colab": {
          "background_save": true
        },
        "id": "3RjjVnfd0O8k"
      },
      "outputs": [],
      "source": [
        "before = pd.Series(y['22:00-day1'])\n",
        "after = hampel(before, window_size=5, n=3, imputation=True)\n",
        "y['22:00-day1'] = after"
      ]
    },
    {
      "cell_type": "code",
      "execution_count": null,
      "metadata": {
        "colab": {
          "background_save": true
        },
        "id": "l8ll8xiP0RS8"
      },
      "outputs": [],
      "source": [
        "before = pd.Series(y['22:30-day1'])\n",
        "after = hampel(before, window_size=5, n=3, imputation=True)\n",
        "y['22:30-day1'] = after"
      ]
    },
    {
      "cell_type": "code",
      "execution_count": null,
      "metadata": {
        "colab": {
          "background_save": true
        },
        "id": "Q9y4zdkm0UWM"
      },
      "outputs": [],
      "source": [
        "before = pd.Series(y['23:00-day1'])\n",
        "after = hampel(before, window_size=5, n=3, imputation=True)\n",
        "y['23:00-day1'] = after"
      ]
    },
    {
      "cell_type": "code",
      "execution_count": null,
      "metadata": {
        "colab": {
          "background_save": true
        },
        "id": "MBA7qAPd0WoO"
      },
      "outputs": [],
      "source": [
        "before = pd.Series(y['23:30-day1'])\n",
        "after = hampel(before, window_size=5, n=3, imputation=True)\n",
        "y['23:30-day1'] = after"
      ]
    },
    {
      "cell_type": "code",
      "execution_count": null,
      "metadata": {
        "id": "YnO_RvXQ0Yya"
      },
      "outputs": [],
      "source": [
        "before = pd.Series(y['0:00-day1'])\n",
        "after = hampel(before, window_size=5, n=3, imputation=True)\n",
        "y['0:00-day1'] = after"
      ]
    },
    {
      "cell_type": "markdown",
      "metadata": {
        "id": "8NkXjA1ZAOKc"
      },
      "source": [
        "#Seeing how the datasets look"
      ]
    },
    {
      "cell_type": "code",
      "execution_count": null,
      "metadata": {
        "id": "a2y6p1OtAQPf"
      },
      "outputs": [],
      "source": [
        "x"
      ]
    },
    {
      "cell_type": "code",
      "execution_count": null,
      "metadata": {
        "id": "1adUhR4xAUXn"
      },
      "outputs": [],
      "source": [
        "y"
      ]
    },
    {
      "cell_type": "markdown",
      "metadata": {
        "id": "oMpVRcETAU9g"
      },
      "source": [
        "#Downloading the datasets"
      ]
    },
    {
      "cell_type": "code",
      "execution_count": null,
      "metadata": {
        "id": "JHYkaYxvAWy3"
      },
      "outputs": [],
      "source": [
        "from google.colab import files\n",
        "x.to_csv('x.csv')\n",
        "files.download('x.csv')"
      ]
    },
    {
      "cell_type": "code",
      "execution_count": null,
      "metadata": {
        "id": "25RArWQ9AX8-"
      },
      "outputs": [],
      "source": [
        "from google.colab import files\n",
        "y.to_csv('y.csv')\n",
        "files.download('y.csv')"
      ]
    }
  ],
  "metadata": {
    "colab": {
      "provenance": [],
      "include_colab_link": true
    },
    "kernelspec": {
      "display_name": "Python 3",
      "name": "python3"
    },
    "language_info": {
      "name": "python"
    }
  },
  "nbformat": 4,
  "nbformat_minor": 0
}